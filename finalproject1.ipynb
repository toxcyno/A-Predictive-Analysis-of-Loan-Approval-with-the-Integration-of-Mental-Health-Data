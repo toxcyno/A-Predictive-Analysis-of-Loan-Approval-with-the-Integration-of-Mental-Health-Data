{
 "cells": [
  {
   "cell_type": "markdown",
   "id": "04e35eeb",
   "metadata": {},
   "source": [
    "### Installing Relevant Libraries"
   ]
  },
  {
   "cell_type": "code",
   "execution_count": 1,
   "id": "6807223d",
   "metadata": {},
   "outputs": [
    {
     "name": "stdout",
     "output_type": "stream",
     "text": [
      "Requirement already satisfied: imblearn in c:\\users\\44786\\anaconda3\\lib\\site-packages (0.0)\n",
      "Requirement already satisfied: imbalanced-learn in c:\\users\\44786\\anaconda3\\lib\\site-packages (from imblearn) (0.10.1)\n",
      "Requirement already satisfied: scikit-learn>=1.0.2 in c:\\users\\44786\\anaconda3\\lib\\site-packages (from imbalanced-learn->imblearn) (1.0.2)\n",
      "Requirement already satisfied: joblib>=1.1.1 in c:\\users\\44786\\anaconda3\\lib\\site-packages (from imbalanced-learn->imblearn) (1.2.0)\n",
      "Requirement already satisfied: threadpoolctl>=2.0.0 in c:\\users\\44786\\anaconda3\\lib\\site-packages (from imbalanced-learn->imblearn) (2.2.0)\n",
      "Requirement already satisfied: scipy>=1.3.2 in c:\\users\\44786\\anaconda3\\lib\\site-packages (from imbalanced-learn->imblearn) (1.7.3)\n",
      "Requirement already satisfied: numpy>=1.17.3 in c:\\users\\44786\\anaconda3\\lib\\site-packages (from imbalanced-learn->imblearn) (1.22.4)\n"
     ]
    }
   ],
   "source": [
    "!pip install imblearn"
   ]
  },
  {
   "cell_type": "code",
   "execution_count": 2,
   "id": "347fc7dd",
   "metadata": {},
   "outputs": [],
   "source": [
    "import math\n",
    "from imblearn.over_sampling import SMOTE\n",
    "from imblearn.under_sampling import RandomUnderSampler\n",
    "import numpy\n",
    "from sklearn.metrics import accuracy_score, precision_recall_fscore_support\n",
    "from sklearn.metrics import accuracy_score, precision_recall_fscore_support, confusion_matrix\n",
    "import pandas as pd\n",
    "import numpy as np\n",
    "import matplotlib.pyplot as plt\n",
    "import seaborn as sns\n",
    "from sklearn import preprocessing\n",
    "import warnings\n",
    "warnings.filterwarnings(\"ignore\")\n",
    "from sklearn.model_selection import train_test_split\n",
    "from sklearn.preprocessing import StandardScaler\n",
    "from sklearn import svm, metrics\n",
    "from sklearn.svm import LinearSVC\n",
    "from sklearn.tree import DecisionTreeClassifier\n",
    "from sklearn.linear_model import LogisticRegression\n",
    "from sklearn.neighbors import KNeighborsClassifier\n",
    "from sklearn import metrics\n",
    "from sklearn.impute import SimpleImputer\n",
    "from sklearn.utils import class_weight\n",
    "from sklearn.naive_bayes import GaussianNB\n",
    "from sklearn.metrics import accuracy_score\n",
    "from sklearn.metrics import classification_report\n",
    "from  sklearn.preprocessing import MinMaxScaler, LabelEncoder\n",
    "from sklearn.metrics import confusion_matrix\n",
    "from sklearn.ensemble import RandomForestClassifier\n",
    "from sklearn.neural_network import MLPClassifier\n",
    "from sklearn.ensemble import VotingClassifier\n",
    "from sklearn.ensemble import GradientBoostingClassifier\n",
    "from sklearn.model_selection import RandomizedSearchCV\n",
    "from sklearn.model_selection import GridSearchCV\n",
    "from sklearn.feature_selection import RFE\n",
    "from sklearn.model_selection import cross_val_score\n",
    "from sklearn.model_selection import KFold\n",
    "from sklearn.model_selection import StratifiedKFold\n",
    "from sklearn.pipeline import make_pipeline\n",
    "from sklearn.svm import SVC\n",
    "from sklearn.metrics import classification_report\n",
    "from sklearn.metrics import precision_score, recall_score, ConfusionMatrixDisplay\n",
    "from sklearn.metrics import roc_auc_score\n",
    "from sklearn.metrics import roc_curve\n",
    "from sklearn.model_selection import cross_val_score\n",
    "from sklearn.metrics import accuracy_score,classification_report,confusion_matrix,roc_auc_score\n",
    "from sklearn.cluster import KMeans\n",
    "from sklearn.datasets import make_classification\n",
    "from sklearn.linear_model import LinearRegression\n",
    "import scipy.spatial.distance as distance\n"
   ]
  },
  {
   "cell_type": "markdown",
   "id": "b9915bcd",
   "metadata": {},
   "source": [
    "### Data Preprocessing"
   ]
  },
  {
   "cell_type": "code",
   "execution_count": 3,
   "id": "f4b91bb0",
   "metadata": {},
   "outputs": [],
   "source": [
    "main =pd.read_csv (\"loan_approval_dataset.csv\")\n"
   ]
  },
  {
   "cell_type": "code",
   "execution_count": 4,
   "id": "c8e9236b",
   "metadata": {},
   "outputs": [
    {
     "data": {
      "text/html": [
       "<div>\n",
       "<style scoped>\n",
       "    .dataframe tbody tr th:only-of-type {\n",
       "        vertical-align: middle;\n",
       "    }\n",
       "\n",
       "    .dataframe tbody tr th {\n",
       "        vertical-align: top;\n",
       "    }\n",
       "\n",
       "    .dataframe thead th {\n",
       "        text-align: right;\n",
       "    }\n",
       "</style>\n",
       "<table border=\"1\" class=\"dataframe\">\n",
       "  <thead>\n",
       "    <tr style=\"text-align: right;\">\n",
       "      <th></th>\n",
       "      <th>loan_id</th>\n",
       "      <th>no_of_dependents</th>\n",
       "      <th>education</th>\n",
       "      <th>self_employed</th>\n",
       "      <th>income_annum</th>\n",
       "      <th>loan_amount</th>\n",
       "      <th>loan_term</th>\n",
       "      <th>cibil_score</th>\n",
       "      <th>residential_assets_value</th>\n",
       "      <th>commercial_assets_value</th>\n",
       "      <th>luxury_assets_value</th>\n",
       "      <th>bank_asset_value</th>\n",
       "      <th>loan_status</th>\n",
       "    </tr>\n",
       "  </thead>\n",
       "  <tbody>\n",
       "    <tr>\n",
       "      <th>0</th>\n",
       "      <td>1</td>\n",
       "      <td>2</td>\n",
       "      <td>Graduate</td>\n",
       "      <td>No</td>\n",
       "      <td>9600000</td>\n",
       "      <td>29900000</td>\n",
       "      <td>12</td>\n",
       "      <td>778</td>\n",
       "      <td>2400000</td>\n",
       "      <td>17600000</td>\n",
       "      <td>22700000</td>\n",
       "      <td>8000000</td>\n",
       "      <td>Approved</td>\n",
       "    </tr>\n",
       "    <tr>\n",
       "      <th>1</th>\n",
       "      <td>2</td>\n",
       "      <td>0</td>\n",
       "      <td>Not Graduate</td>\n",
       "      <td>Yes</td>\n",
       "      <td>4100000</td>\n",
       "      <td>12200000</td>\n",
       "      <td>8</td>\n",
       "      <td>417</td>\n",
       "      <td>2700000</td>\n",
       "      <td>2200000</td>\n",
       "      <td>8800000</td>\n",
       "      <td>3300000</td>\n",
       "      <td>Rejected</td>\n",
       "    </tr>\n",
       "    <tr>\n",
       "      <th>2</th>\n",
       "      <td>3</td>\n",
       "      <td>3</td>\n",
       "      <td>Graduate</td>\n",
       "      <td>No</td>\n",
       "      <td>9100000</td>\n",
       "      <td>29700000</td>\n",
       "      <td>20</td>\n",
       "      <td>506</td>\n",
       "      <td>7100000</td>\n",
       "      <td>4500000</td>\n",
       "      <td>33300000</td>\n",
       "      <td>12800000</td>\n",
       "      <td>Rejected</td>\n",
       "    </tr>\n",
       "    <tr>\n",
       "      <th>3</th>\n",
       "      <td>4</td>\n",
       "      <td>3</td>\n",
       "      <td>Graduate</td>\n",
       "      <td>No</td>\n",
       "      <td>8200000</td>\n",
       "      <td>30700000</td>\n",
       "      <td>8</td>\n",
       "      <td>467</td>\n",
       "      <td>18200000</td>\n",
       "      <td>3300000</td>\n",
       "      <td>23300000</td>\n",
       "      <td>7900000</td>\n",
       "      <td>Rejected</td>\n",
       "    </tr>\n",
       "    <tr>\n",
       "      <th>4</th>\n",
       "      <td>5</td>\n",
       "      <td>5</td>\n",
       "      <td>Not Graduate</td>\n",
       "      <td>Yes</td>\n",
       "      <td>9800000</td>\n",
       "      <td>24200000</td>\n",
       "      <td>20</td>\n",
       "      <td>382</td>\n",
       "      <td>12400000</td>\n",
       "      <td>8200000</td>\n",
       "      <td>29400000</td>\n",
       "      <td>5000000</td>\n",
       "      <td>Rejected</td>\n",
       "    </tr>\n",
       "    <tr>\n",
       "      <th>...</th>\n",
       "      <td>...</td>\n",
       "      <td>...</td>\n",
       "      <td>...</td>\n",
       "      <td>...</td>\n",
       "      <td>...</td>\n",
       "      <td>...</td>\n",
       "      <td>...</td>\n",
       "      <td>...</td>\n",
       "      <td>...</td>\n",
       "      <td>...</td>\n",
       "      <td>...</td>\n",
       "      <td>...</td>\n",
       "      <td>...</td>\n",
       "    </tr>\n",
       "    <tr>\n",
       "      <th>4264</th>\n",
       "      <td>4265</td>\n",
       "      <td>5</td>\n",
       "      <td>Graduate</td>\n",
       "      <td>Yes</td>\n",
       "      <td>1000000</td>\n",
       "      <td>2300000</td>\n",
       "      <td>12</td>\n",
       "      <td>317</td>\n",
       "      <td>2800000</td>\n",
       "      <td>500000</td>\n",
       "      <td>3300000</td>\n",
       "      <td>800000</td>\n",
       "      <td>Rejected</td>\n",
       "    </tr>\n",
       "    <tr>\n",
       "      <th>4265</th>\n",
       "      <td>4266</td>\n",
       "      <td>0</td>\n",
       "      <td>Not Graduate</td>\n",
       "      <td>Yes</td>\n",
       "      <td>3300000</td>\n",
       "      <td>11300000</td>\n",
       "      <td>20</td>\n",
       "      <td>559</td>\n",
       "      <td>4200000</td>\n",
       "      <td>2900000</td>\n",
       "      <td>11000000</td>\n",
       "      <td>1900000</td>\n",
       "      <td>Approved</td>\n",
       "    </tr>\n",
       "    <tr>\n",
       "      <th>4266</th>\n",
       "      <td>4267</td>\n",
       "      <td>2</td>\n",
       "      <td>Not Graduate</td>\n",
       "      <td>No</td>\n",
       "      <td>6500000</td>\n",
       "      <td>23900000</td>\n",
       "      <td>18</td>\n",
       "      <td>457</td>\n",
       "      <td>1200000</td>\n",
       "      <td>12400000</td>\n",
       "      <td>18100000</td>\n",
       "      <td>7300000</td>\n",
       "      <td>Rejected</td>\n",
       "    </tr>\n",
       "    <tr>\n",
       "      <th>4267</th>\n",
       "      <td>4268</td>\n",
       "      <td>1</td>\n",
       "      <td>Not Graduate</td>\n",
       "      <td>No</td>\n",
       "      <td>4100000</td>\n",
       "      <td>12800000</td>\n",
       "      <td>8</td>\n",
       "      <td>780</td>\n",
       "      <td>8200000</td>\n",
       "      <td>700000</td>\n",
       "      <td>14100000</td>\n",
       "      <td>5800000</td>\n",
       "      <td>Approved</td>\n",
       "    </tr>\n",
       "    <tr>\n",
       "      <th>4268</th>\n",
       "      <td>4269</td>\n",
       "      <td>1</td>\n",
       "      <td>Graduate</td>\n",
       "      <td>No</td>\n",
       "      <td>9200000</td>\n",
       "      <td>29700000</td>\n",
       "      <td>10</td>\n",
       "      <td>607</td>\n",
       "      <td>17800000</td>\n",
       "      <td>11800000</td>\n",
       "      <td>35700000</td>\n",
       "      <td>12000000</td>\n",
       "      <td>Approved</td>\n",
       "    </tr>\n",
       "  </tbody>\n",
       "</table>\n",
       "<p>4269 rows × 13 columns</p>\n",
       "</div>"
      ],
      "text/plain": [
       "      loan_id   no_of_dependents      education  self_employed   income_annum  \\\n",
       "0           1                  2       Graduate             No        9600000   \n",
       "1           2                  0   Not Graduate            Yes        4100000   \n",
       "2           3                  3       Graduate             No        9100000   \n",
       "3           4                  3       Graduate             No        8200000   \n",
       "4           5                  5   Not Graduate            Yes        9800000   \n",
       "...       ...                ...            ...            ...            ...   \n",
       "4264     4265                  5       Graduate            Yes        1000000   \n",
       "4265     4266                  0   Not Graduate            Yes        3300000   \n",
       "4266     4267                  2   Not Graduate             No        6500000   \n",
       "4267     4268                  1   Not Graduate             No        4100000   \n",
       "4268     4269                  1       Graduate             No        9200000   \n",
       "\n",
       "       loan_amount   loan_term   cibil_score   residential_assets_value  \\\n",
       "0         29900000          12           778                    2400000   \n",
       "1         12200000           8           417                    2700000   \n",
       "2         29700000          20           506                    7100000   \n",
       "3         30700000           8           467                   18200000   \n",
       "4         24200000          20           382                   12400000   \n",
       "...            ...         ...           ...                        ...   \n",
       "4264       2300000          12           317                    2800000   \n",
       "4265      11300000          20           559                    4200000   \n",
       "4266      23900000          18           457                    1200000   \n",
       "4267      12800000           8           780                    8200000   \n",
       "4268      29700000          10           607                   17800000   \n",
       "\n",
       "       commercial_assets_value   luxury_assets_value   bank_asset_value  \\\n",
       "0                     17600000              22700000            8000000   \n",
       "1                      2200000               8800000            3300000   \n",
       "2                      4500000              33300000           12800000   \n",
       "3                      3300000              23300000            7900000   \n",
       "4                      8200000              29400000            5000000   \n",
       "...                        ...                   ...                ...   \n",
       "4264                    500000               3300000             800000   \n",
       "4265                   2900000              11000000            1900000   \n",
       "4266                  12400000              18100000            7300000   \n",
       "4267                    700000              14100000            5800000   \n",
       "4268                  11800000              35700000           12000000   \n",
       "\n",
       "      loan_status  \n",
       "0        Approved  \n",
       "1        Rejected  \n",
       "2        Rejected  \n",
       "3        Rejected  \n",
       "4        Rejected  \n",
       "...           ...  \n",
       "4264     Rejected  \n",
       "4265     Approved  \n",
       "4266     Rejected  \n",
       "4267     Approved  \n",
       "4268     Approved  \n",
       "\n",
       "[4269 rows x 13 columns]"
      ]
     },
     "execution_count": 4,
     "metadata": {},
     "output_type": "execute_result"
    }
   ],
   "source": [
    "main"
   ]
  },
  {
   "cell_type": "code",
   "execution_count": 5,
   "id": "d9ddaa04",
   "metadata": {},
   "outputs": [
    {
     "name": "stdout",
     "output_type": "stream",
     "text": [
      "<class 'pandas.core.frame.DataFrame'>\n",
      "RangeIndex: 4269 entries, 0 to 4268\n",
      "Data columns (total 13 columns):\n",
      " #   Column                     Non-Null Count  Dtype \n",
      "---  ------                     --------------  ----- \n",
      " 0   loan_id                    4269 non-null   int64 \n",
      " 1    no_of_dependents          4269 non-null   int64 \n",
      " 2    education                 4269 non-null   object\n",
      " 3    self_employed             4269 non-null   object\n",
      " 4    income_annum              4269 non-null   int64 \n",
      " 5    loan_amount               4269 non-null   int64 \n",
      " 6    loan_term                 4269 non-null   int64 \n",
      " 7    cibil_score               4269 non-null   int64 \n",
      " 8    residential_assets_value  4269 non-null   int64 \n",
      " 9    commercial_assets_value   4269 non-null   int64 \n",
      " 10   luxury_assets_value       4269 non-null   int64 \n",
      " 11   bank_asset_value          4269 non-null   int64 \n",
      " 12   loan_status               4269 non-null   object\n",
      "dtypes: int64(10), object(3)\n",
      "memory usage: 433.7+ KB\n"
     ]
    }
   ],
   "source": [
    "main.info()"
   ]
  },
  {
   "cell_type": "code",
   "execution_count": 6,
   "id": "eec3fad0",
   "metadata": {},
   "outputs": [
    {
     "data": {
      "text/html": [
       "<div>\n",
       "<style scoped>\n",
       "    .dataframe tbody tr th:only-of-type {\n",
       "        vertical-align: middle;\n",
       "    }\n",
       "\n",
       "    .dataframe tbody tr th {\n",
       "        vertical-align: top;\n",
       "    }\n",
       "\n",
       "    .dataframe thead th {\n",
       "        text-align: right;\n",
       "    }\n",
       "</style>\n",
       "<table border=\"1\" class=\"dataframe\">\n",
       "  <thead>\n",
       "    <tr style=\"text-align: right;\">\n",
       "      <th></th>\n",
       "      <th>loan_id</th>\n",
       "      <th>no_of_dependents</th>\n",
       "      <th>income_annum</th>\n",
       "      <th>loan_amount</th>\n",
       "      <th>loan_term</th>\n",
       "      <th>cibil_score</th>\n",
       "      <th>residential_assets_value</th>\n",
       "      <th>commercial_assets_value</th>\n",
       "      <th>luxury_assets_value</th>\n",
       "      <th>bank_asset_value</th>\n",
       "    </tr>\n",
       "  </thead>\n",
       "  <tbody>\n",
       "    <tr>\n",
       "      <th>count</th>\n",
       "      <td>4269.000000</td>\n",
       "      <td>4269.000000</td>\n",
       "      <td>4.269000e+03</td>\n",
       "      <td>4.269000e+03</td>\n",
       "      <td>4269.000000</td>\n",
       "      <td>4269.000000</td>\n",
       "      <td>4.269000e+03</td>\n",
       "      <td>4.269000e+03</td>\n",
       "      <td>4.269000e+03</td>\n",
       "      <td>4.269000e+03</td>\n",
       "    </tr>\n",
       "    <tr>\n",
       "      <th>mean</th>\n",
       "      <td>2135.000000</td>\n",
       "      <td>2.498712</td>\n",
       "      <td>5.059124e+06</td>\n",
       "      <td>1.513345e+07</td>\n",
       "      <td>10.900445</td>\n",
       "      <td>599.936051</td>\n",
       "      <td>7.472617e+06</td>\n",
       "      <td>4.973155e+06</td>\n",
       "      <td>1.512631e+07</td>\n",
       "      <td>4.976692e+06</td>\n",
       "    </tr>\n",
       "    <tr>\n",
       "      <th>std</th>\n",
       "      <td>1232.498479</td>\n",
       "      <td>1.695910</td>\n",
       "      <td>2.806840e+06</td>\n",
       "      <td>9.043363e+06</td>\n",
       "      <td>5.709187</td>\n",
       "      <td>172.430401</td>\n",
       "      <td>6.503637e+06</td>\n",
       "      <td>4.388966e+06</td>\n",
       "      <td>9.103754e+06</td>\n",
       "      <td>3.250185e+06</td>\n",
       "    </tr>\n",
       "    <tr>\n",
       "      <th>min</th>\n",
       "      <td>1.000000</td>\n",
       "      <td>0.000000</td>\n",
       "      <td>2.000000e+05</td>\n",
       "      <td>3.000000e+05</td>\n",
       "      <td>2.000000</td>\n",
       "      <td>300.000000</td>\n",
       "      <td>-1.000000e+05</td>\n",
       "      <td>0.000000e+00</td>\n",
       "      <td>3.000000e+05</td>\n",
       "      <td>0.000000e+00</td>\n",
       "    </tr>\n",
       "    <tr>\n",
       "      <th>25%</th>\n",
       "      <td>1068.000000</td>\n",
       "      <td>1.000000</td>\n",
       "      <td>2.700000e+06</td>\n",
       "      <td>7.700000e+06</td>\n",
       "      <td>6.000000</td>\n",
       "      <td>453.000000</td>\n",
       "      <td>2.200000e+06</td>\n",
       "      <td>1.300000e+06</td>\n",
       "      <td>7.500000e+06</td>\n",
       "      <td>2.300000e+06</td>\n",
       "    </tr>\n",
       "    <tr>\n",
       "      <th>50%</th>\n",
       "      <td>2135.000000</td>\n",
       "      <td>3.000000</td>\n",
       "      <td>5.100000e+06</td>\n",
       "      <td>1.450000e+07</td>\n",
       "      <td>10.000000</td>\n",
       "      <td>600.000000</td>\n",
       "      <td>5.600000e+06</td>\n",
       "      <td>3.700000e+06</td>\n",
       "      <td>1.460000e+07</td>\n",
       "      <td>4.600000e+06</td>\n",
       "    </tr>\n",
       "    <tr>\n",
       "      <th>75%</th>\n",
       "      <td>3202.000000</td>\n",
       "      <td>4.000000</td>\n",
       "      <td>7.500000e+06</td>\n",
       "      <td>2.150000e+07</td>\n",
       "      <td>16.000000</td>\n",
       "      <td>748.000000</td>\n",
       "      <td>1.130000e+07</td>\n",
       "      <td>7.600000e+06</td>\n",
       "      <td>2.170000e+07</td>\n",
       "      <td>7.100000e+06</td>\n",
       "    </tr>\n",
       "    <tr>\n",
       "      <th>max</th>\n",
       "      <td>4269.000000</td>\n",
       "      <td>5.000000</td>\n",
       "      <td>9.900000e+06</td>\n",
       "      <td>3.950000e+07</td>\n",
       "      <td>20.000000</td>\n",
       "      <td>900.000000</td>\n",
       "      <td>2.910000e+07</td>\n",
       "      <td>1.940000e+07</td>\n",
       "      <td>3.920000e+07</td>\n",
       "      <td>1.470000e+07</td>\n",
       "    </tr>\n",
       "  </tbody>\n",
       "</table>\n",
       "</div>"
      ],
      "text/plain": [
       "           loan_id   no_of_dependents   income_annum   loan_amount  \\\n",
       "count  4269.000000        4269.000000   4.269000e+03  4.269000e+03   \n",
       "mean   2135.000000           2.498712   5.059124e+06  1.513345e+07   \n",
       "std    1232.498479           1.695910   2.806840e+06  9.043363e+06   \n",
       "min       1.000000           0.000000   2.000000e+05  3.000000e+05   \n",
       "25%    1068.000000           1.000000   2.700000e+06  7.700000e+06   \n",
       "50%    2135.000000           3.000000   5.100000e+06  1.450000e+07   \n",
       "75%    3202.000000           4.000000   7.500000e+06  2.150000e+07   \n",
       "max    4269.000000           5.000000   9.900000e+06  3.950000e+07   \n",
       "\n",
       "         loan_term   cibil_score   residential_assets_value  \\\n",
       "count  4269.000000   4269.000000               4.269000e+03   \n",
       "mean     10.900445    599.936051               7.472617e+06   \n",
       "std       5.709187    172.430401               6.503637e+06   \n",
       "min       2.000000    300.000000              -1.000000e+05   \n",
       "25%       6.000000    453.000000               2.200000e+06   \n",
       "50%      10.000000    600.000000               5.600000e+06   \n",
       "75%      16.000000    748.000000               1.130000e+07   \n",
       "max      20.000000    900.000000               2.910000e+07   \n",
       "\n",
       "        commercial_assets_value   luxury_assets_value   bank_asset_value  \n",
       "count              4.269000e+03          4.269000e+03       4.269000e+03  \n",
       "mean               4.973155e+06          1.512631e+07       4.976692e+06  \n",
       "std                4.388966e+06          9.103754e+06       3.250185e+06  \n",
       "min                0.000000e+00          3.000000e+05       0.000000e+00  \n",
       "25%                1.300000e+06          7.500000e+06       2.300000e+06  \n",
       "50%                3.700000e+06          1.460000e+07       4.600000e+06  \n",
       "75%                7.600000e+06          2.170000e+07       7.100000e+06  \n",
       "max                1.940000e+07          3.920000e+07       1.470000e+07  "
      ]
     },
     "execution_count": 6,
     "metadata": {},
     "output_type": "execute_result"
    }
   ],
   "source": [
    "main.describe()"
   ]
  },
  {
   "cell_type": "code",
   "execution_count": 7,
   "id": "34b57103",
   "metadata": {},
   "outputs": [
    {
     "data": {
      "text/plain": [
       "array([' Graduate', ' Not Graduate'], dtype=object)"
      ]
     },
     "execution_count": 7,
     "metadata": {},
     "output_type": "execute_result"
    }
   ],
   "source": [
    "main[' education'].unique()"
   ]
  },
  {
   "cell_type": "code",
   "execution_count": 8,
   "id": "9fae5a9f",
   "metadata": {},
   "outputs": [
    {
     "data": {
      "text/plain": [
       "array([' No', ' Yes'], dtype=object)"
      ]
     },
     "execution_count": 8,
     "metadata": {},
     "output_type": "execute_result"
    }
   ],
   "source": [
    "main[' self_employed'].unique()"
   ]
  },
  {
   "cell_type": "code",
   "execution_count": 9,
   "id": "9fc98320",
   "metadata": {},
   "outputs": [
    {
     "data": {
      "text/plain": [
       "array([' Approved', ' Rejected'], dtype=object)"
      ]
     },
     "execution_count": 9,
     "metadata": {},
     "output_type": "execute_result"
    }
   ],
   "source": [
    "main[' loan_status'].unique()"
   ]
  },
  {
   "cell_type": "markdown",
   "id": "fb142353",
   "metadata": {},
   "source": [
    "### Encoding the Dataset"
   ]
  },
  {
   "cell_type": "code",
   "execution_count": 10,
   "id": "c954c8b2",
   "metadata": {},
   "outputs": [],
   "source": [
    "main[' education'].replace(to_replace=[' Graduate', ' Not Graduate'], value=[1,0], inplace= True)"
   ]
  },
  {
   "cell_type": "code",
   "execution_count": 11,
   "id": "a9ba7f43",
   "metadata": {},
   "outputs": [],
   "source": [
    "main[' self_employed'].replace(to_replace=[' No', ' Yes'], value=[0,1], inplace=True)"
   ]
  },
  {
   "cell_type": "code",
   "execution_count": 12,
   "id": "b1965b3e",
   "metadata": {},
   "outputs": [],
   "source": [
    "main[' loan_status'].replace(to_replace=[' Approved', ' Rejected'], value=[1, 0], inplace=True)"
   ]
  },
  {
   "cell_type": "code",
   "execution_count": 13,
   "id": "76303440",
   "metadata": {},
   "outputs": [],
   "source": [
    "main.drop([\"loan_id\"], axis=1, inplace=True)"
   ]
  },
  {
   "cell_type": "code",
   "execution_count": 14,
   "id": "3e790789",
   "metadata": {},
   "outputs": [
    {
     "name": "stdout",
     "output_type": "stream",
     "text": [
      "<class 'pandas.core.frame.DataFrame'>\n",
      "RangeIndex: 4269 entries, 0 to 4268\n",
      "Data columns (total 12 columns):\n",
      " #   Column                     Non-Null Count  Dtype\n",
      "---  ------                     --------------  -----\n",
      " 0    no_of_dependents          4269 non-null   int64\n",
      " 1    education                 4269 non-null   int64\n",
      " 2    self_employed             4269 non-null   int64\n",
      " 3    income_annum              4269 non-null   int64\n",
      " 4    loan_amount               4269 non-null   int64\n",
      " 5    loan_term                 4269 non-null   int64\n",
      " 6    cibil_score               4269 non-null   int64\n",
      " 7    residential_assets_value  4269 non-null   int64\n",
      " 8    commercial_assets_value   4269 non-null   int64\n",
      " 9    luxury_assets_value       4269 non-null   int64\n",
      " 10   bank_asset_value          4269 non-null   int64\n",
      " 11   loan_status               4269 non-null   int64\n",
      "dtypes: int64(12)\n",
      "memory usage: 400.3 KB\n"
     ]
    }
   ],
   "source": [
    "main.info()"
   ]
  },
  {
   "cell_type": "code",
   "execution_count": 15,
   "id": "37137317",
   "metadata": {},
   "outputs": [
    {
     "data": {
      "text/plain": [
       " no_of_dependents            0\n",
       " education                   0\n",
       " self_employed               0\n",
       " income_annum                0\n",
       " loan_amount                 0\n",
       " loan_term                   0\n",
       " cibil_score                 0\n",
       " residential_assets_value    0\n",
       " commercial_assets_value     0\n",
       " luxury_assets_value         0\n",
       " bank_asset_value            0\n",
       " loan_status                 0\n",
       "dtype: int64"
      ]
     },
     "execution_count": 15,
     "metadata": {},
     "output_type": "execute_result"
    }
   ],
   "source": [
    "main.isnull().sum()"
   ]
  },
  {
   "cell_type": "markdown",
   "id": "9e824815",
   "metadata": {},
   "source": [
    "### Exploratory Data Analysis"
   ]
  },
  {
   "cell_type": "code",
   "execution_count": 16,
   "id": "6d4bd7d4",
   "metadata": {},
   "outputs": [
    {
     "data": {
      "image/png": "[encoded data removed]",
      "text/plain": [
       "<Figure size 720x576 with 2 Axes>"
      ]
     },
     "metadata": {
      "needs_background": "light"
     },
     "output_type": "display_data"
    }
   ],
   "source": [
    "corr=main.corr(method='spearman')\n",
    "plt.figure(figsize=(10,8))\n",
    "sns.heatmap(corr, cmap='Dark2', annot=True, fmt='.2f',\n",
    "mask=np.triu(corr))\n",
    "plt.show()"
   ]
  },
  {
   "cell_type": "code",
   "execution_count": 17,
   "id": "255a9479",
   "metadata": {},
   "outputs": [
    {
     "data": {
      "image/png": "[encoded data removed]",
      "text/plain": [
       "<Figure size 3000x2250 with 12 Axes>"
      ]
     },
     "metadata": {
      "needs_background": "light"
     },
     "output_type": "display_data"
    }
   ],
   "source": [
    "fig,ax=plt.subplots(figsize = (20, 15), dpi = 150)\n",
    "main.hist(bins = 30, alpha = 0.5, color='purple', ax=ax)\n",
    "plt.ylabel('Frequency')\n",
    "plt.show()"
   ]
  },
  {
   "cell_type": "code",
   "execution_count": 18,
   "id": "ec518dca",
   "metadata": {},
   "outputs": [
    {
     "data": {
      "text/plain": [
       "<AxesSubplot:xlabel=' residential_assets_value'>"
      ]
     },
     "execution_count": 18,
     "metadata": {},
     "output_type": "execute_result"
    },
    {
     "data": {
      "image/png": "[encoded data removed]",
      "text/plain": [
       "<Figure size 432x288 with 1 Axes>"
      ]
     },
     "metadata": {
      "needs_background": "light"
     },
     "output_type": "display_data"
    }
   ],
   "source": [
    "sns.boxplot(main[\" residential_assets_value\"])"
   ]
  },
  {
   "cell_type": "code",
   "execution_count": 19,
   "id": "1fb5f660",
   "metadata": {},
   "outputs": [
    {
     "data": {
      "text/plain": [
       "<AxesSubplot:xlabel=' commercial_assets_value'>"
      ]
     },
     "execution_count": 19,
     "metadata": {},
     "output_type": "execute_result"
    },
    {
     "data": {
      "image/png": "[encoded data removed]",
      "text/plain": [
       "<Figure size 432x288 with 1 Axes>"
      ]
     },
     "metadata": {
      "needs_background": "light"
     },
     "output_type": "display_data"
    }
   ],
   "source": [
    "sns.boxplot(main[\" commercial_assets_value\"]) "
   ]
  },
  {
   "cell_type": "code",
   "execution_count": 20,
   "id": "3afa7e6e",
   "metadata": {},
   "outputs": [
    {
     "data": {
      "image/png": "[encoded data removed]",
      "text/plain": [
       "<Figure size 432x288 with 1 Axes>"
      ]
     },
     "metadata": {
      "needs_background": "light"
     },
     "output_type": "display_data"
    }
   ],
   "source": [
    "sns.countplot(data=main, x=\" education\", hue=\" loan_status\")\n",
    "plt.show()"
   ]
  },
  {
   "cell_type": "code",
   "execution_count": 21,
   "id": "d14c49e8",
   "metadata": {},
   "outputs": [
    {
     "data": {
      "text/plain": [
       "<AxesSubplot:xlabel=' loan_term'>"
      ]
     },
     "execution_count": 21,
     "metadata": {},
     "output_type": "execute_result"
    },
    {
     "data": {
      "image/png": "[encoded data removed]",
      "text/plain": [
       "<Figure size 432x288 with 1 Axes>"
      ]
     },
     "metadata": {
      "needs_background": "light"
     },
     "output_type": "display_data"
    }
   ],
   "source": [
    "sns.boxplot(main[\" loan_term\"])"
   ]
  },
  {
   "cell_type": "code",
   "execution_count": 22,
   "id": "629705db",
   "metadata": {},
   "outputs": [
    {
     "data": {
      "text/plain": [
       "<seaborn.axisgrid.FacetGrid at 0x1fc6d09c160>"
      ]
     },
     "execution_count": 22,
     "metadata": {},
     "output_type": "execute_result"
    },
    {
     "data": {
      "image/png": "[encoded data removed]",
      "text/plain": [
       "<Figure size 360x360 with 1 Axes>"
      ]
     },
     "metadata": {
      "needs_background": "light"
     },
     "output_type": "display_data"
    }
   ],
   "source": [
    "sns.relplot(x =\" loan_status\", y =\" cibil_score\",data = main)"
   ]
  },
  {
   "cell_type": "code",
   "execution_count": 23,
   "id": "7dc5ef61",
   "metadata": {},
   "outputs": [
    {
     "data": {
      "text/plain": [
       "<AxesSubplot:xlabel=' luxury_assets_value'>"
      ]
     },
     "execution_count": 23,
     "metadata": {},
     "output_type": "execute_result"
    },
    {
     "data": {
      "image/png": "[encoded data removed]",
      "text/plain": [
       "<Figure size 432x288 with 1 Axes>"
      ]
     },
     "metadata": {
      "needs_background": "light"
     },
     "output_type": "display_data"
    }
   ],
   "source": [
    "sns.boxplot(main[\" luxury_assets_value\"])"
   ]
  },
  {
   "cell_type": "code",
   "execution_count": 24,
   "id": "404cbee0",
   "metadata": {},
   "outputs": [
    {
     "data": {
      "text/plain": [
       "Text(0.5, 1.0, 'Number of Dependents')"
      ]
     },
     "execution_count": 24,
     "metadata": {},
     "output_type": "execute_result"
    },
    {
     "data": {
      "image/png": "[encoded data removed]",
      "text/plain": [
       "<Figure size 432x288 with 1 Axes>"
      ]
     },
     "metadata": {
      "needs_background": "light"
     },
     "output_type": "display_data"
    }
   ],
   "source": [
    "sns.countplot(x = ' no_of_dependents', data = main).set_title('Number of Dependents')"
   ]
  },
  {
   "cell_type": "code",
   "execution_count": 25,
   "id": "c3d66cd0",
   "metadata": {},
   "outputs": [
    {
     "data": {
      "text/plain": [
       "<AxesSubplot:xlabel=' income_annum'>"
      ]
     },
     "execution_count": 25,
     "metadata": {},
     "output_type": "execute_result"
    },
    {
     "data": {
      "image/png": "[encoded data removed]",
      "text/plain": [
       "<Figure size 432x288 with 1 Axes>"
      ]
     },
     "metadata": {
      "needs_background": "light"
     },
     "output_type": "display_data"
    }
   ],
   "source": [
    "sns.boxplot(main[\" income_annum\"])"
   ]
  },
  {
   "cell_type": "code",
   "execution_count": 26,
   "id": "0d102b25",
   "metadata": {},
   "outputs": [
    {
     "data": {
      "image/png": "[encoded data removed]",
      "text/plain": [
       "<Figure size 432x288 with 1 Axes>"
      ]
     },
     "metadata": {
      "needs_background": "light"
     },
     "output_type": "display_data"
    }
   ],
   "source": [
    "sns.countplot(data=main, x=\" self_employed\", hue=\" loan_status\")\n",
    "plt.show()"
   ]
  },
  {
   "cell_type": "code",
   "execution_count": 27,
   "id": "dccdcb7a",
   "metadata": {},
   "outputs": [
    {
     "data": {
      "text/plain": [
       "<AxesSubplot:xlabel=' bank_asset_value'>"
      ]
     },
     "execution_count": 27,
     "metadata": {},
     "output_type": "execute_result"
    },
    {
     "data": {
      "image/png": "[encoded data removed]",
      "text/plain": [
       "<Figure size 432x288 with 1 Axes>"
      ]
     },
     "metadata": {
      "needs_background": "light"
     },
     "output_type": "display_data"
    }
   ],
   "source": [
    "sns.boxplot(main[\" bank_asset_value\"])"
   ]
  },
  {
   "cell_type": "code",
   "execution_count": 28,
   "id": "fbbd78d9",
   "metadata": {},
   "outputs": [
    {
     "data": {
      "text/plain": [
       "<AxesSubplot:xlabel=' loan_amount'>"
      ]
     },
     "execution_count": 28,
     "metadata": {},
     "output_type": "execute_result"
    },
    {
     "data": {
      "image/png": "[encoded data removed]",
      "text/plain": [
       "<Figure size 432x288 with 1 Axes>"
      ]
     },
     "metadata": {
      "needs_background": "light"
     },
     "output_type": "display_data"
    }
   ],
   "source": [
    "sns.boxplot(main[\" loan_amount\"])"
   ]
  },
  {
   "cell_type": "code",
   "execution_count": 29,
   "id": "5b2a6c4e",
   "metadata": {},
   "outputs": [
    {
     "data": {
      "image/png": "[encoded data removed]",
      "text/plain": [
       "<Figure size 432x288 with 1 Axes>"
      ]
     },
     "metadata": {
      "needs_background": "light"
     },
     "output_type": "display_data"
    }
   ],
   "source": [
    "sns.countplot(data=main, x=\" loan_status\")\n",
    "plt.show()"
   ]
  },
  {
   "cell_type": "code",
   "execution_count": 30,
   "id": "bd3c182a",
   "metadata": {},
   "outputs": [],
   "source": [
    "X= main.drop(\" loan_status\", axis = 1)\n",
    "Y= main[\" loan_status\"]"
   ]
  },
  {
   "cell_type": "markdown",
   "id": "7784aeb0",
   "metadata": {},
   "source": [
    "### Scalling the Dataset"
   ]
  },
  {
   "cell_type": "code",
   "execution_count": 31,
   "id": "822ffc26",
   "metadata": {},
   "outputs": [],
   "source": [
    "scalar = MinMaxScaler().fit(X)"
   ]
  },
  {
   "cell_type": "code",
   "execution_count": 32,
   "id": "458b7df4",
   "metadata": {},
   "outputs": [],
   "source": [
    "main_1 = pd.DataFrame(data=scalar.transform(X), columns=X.columns)"
   ]
  },
  {
   "cell_type": "code",
   "execution_count": 33,
   "id": "f13459a1",
   "metadata": {},
   "outputs": [
    {
     "data": {
      "text/html": [
       "<div>\n",
       "<style scoped>\n",
       "    .dataframe tbody tr th:only-of-type {\n",
       "        vertical-align: middle;\n",
       "    }\n",
       "\n",
       "    .dataframe tbody tr th {\n",
       "        vertical-align: top;\n",
       "    }\n",
       "\n",
       "    .dataframe thead th {\n",
       "        text-align: right;\n",
       "    }\n",
       "</style>\n",
       "<table border=\"1\" class=\"dataframe\">\n",
       "  <thead>\n",
       "    <tr style=\"text-align: right;\">\n",
       "      <th></th>\n",
       "      <th>no_of_dependents</th>\n",
       "      <th>education</th>\n",
       "      <th>self_employed</th>\n",
       "      <th>income_annum</th>\n",
       "      <th>loan_amount</th>\n",
       "      <th>loan_term</th>\n",
       "      <th>cibil_score</th>\n",
       "      <th>residential_assets_value</th>\n",
       "      <th>commercial_assets_value</th>\n",
       "      <th>luxury_assets_value</th>\n",
       "      <th>bank_asset_value</th>\n",
       "    </tr>\n",
       "  </thead>\n",
       "  <tbody>\n",
       "    <tr>\n",
       "      <th>0</th>\n",
       "      <td>0.4</td>\n",
       "      <td>1.0</td>\n",
       "      <td>0.0</td>\n",
       "      <td>0.969072</td>\n",
       "      <td>0.755102</td>\n",
       "      <td>0.555556</td>\n",
       "      <td>0.796667</td>\n",
       "      <td>0.085616</td>\n",
       "      <td>0.907216</td>\n",
       "      <td>0.575835</td>\n",
       "      <td>0.544218</td>\n",
       "    </tr>\n",
       "    <tr>\n",
       "      <th>1</th>\n",
       "      <td>0.0</td>\n",
       "      <td>0.0</td>\n",
       "      <td>1.0</td>\n",
       "      <td>0.402062</td>\n",
       "      <td>0.303571</td>\n",
       "      <td>0.333333</td>\n",
       "      <td>0.195000</td>\n",
       "      <td>0.095890</td>\n",
       "      <td>0.113402</td>\n",
       "      <td>0.218509</td>\n",
       "      <td>0.224490</td>\n",
       "    </tr>\n",
       "    <tr>\n",
       "      <th>2</th>\n",
       "      <td>0.6</td>\n",
       "      <td>1.0</td>\n",
       "      <td>0.0</td>\n",
       "      <td>0.917526</td>\n",
       "      <td>0.750000</td>\n",
       "      <td>1.000000</td>\n",
       "      <td>0.343333</td>\n",
       "      <td>0.246575</td>\n",
       "      <td>0.231959</td>\n",
       "      <td>0.848329</td>\n",
       "      <td>0.870748</td>\n",
       "    </tr>\n",
       "    <tr>\n",
       "      <th>3</th>\n",
       "      <td>0.6</td>\n",
       "      <td>1.0</td>\n",
       "      <td>0.0</td>\n",
       "      <td>0.824742</td>\n",
       "      <td>0.775510</td>\n",
       "      <td>0.333333</td>\n",
       "      <td>0.278333</td>\n",
       "      <td>0.626712</td>\n",
       "      <td>0.170103</td>\n",
       "      <td>0.591260</td>\n",
       "      <td>0.537415</td>\n",
       "    </tr>\n",
       "    <tr>\n",
       "      <th>4</th>\n",
       "      <td>1.0</td>\n",
       "      <td>0.0</td>\n",
       "      <td>1.0</td>\n",
       "      <td>0.989691</td>\n",
       "      <td>0.609694</td>\n",
       "      <td>1.000000</td>\n",
       "      <td>0.136667</td>\n",
       "      <td>0.428082</td>\n",
       "      <td>0.422680</td>\n",
       "      <td>0.748072</td>\n",
       "      <td>0.340136</td>\n",
       "    </tr>\n",
       "    <tr>\n",
       "      <th>...</th>\n",
       "      <td>...</td>\n",
       "      <td>...</td>\n",
       "      <td>...</td>\n",
       "      <td>...</td>\n",
       "      <td>...</td>\n",
       "      <td>...</td>\n",
       "      <td>...</td>\n",
       "      <td>...</td>\n",
       "      <td>...</td>\n",
       "      <td>...</td>\n",
       "      <td>...</td>\n",
       "    </tr>\n",
       "    <tr>\n",
       "      <th>4264</th>\n",
       "      <td>1.0</td>\n",
       "      <td>1.0</td>\n",
       "      <td>1.0</td>\n",
       "      <td>0.082474</td>\n",
       "      <td>0.051020</td>\n",
       "      <td>0.555556</td>\n",
       "      <td>0.028333</td>\n",
       "      <td>0.099315</td>\n",
       "      <td>0.025773</td>\n",
       "      <td>0.077121</td>\n",
       "      <td>0.054422</td>\n",
       "    </tr>\n",
       "    <tr>\n",
       "      <th>4265</th>\n",
       "      <td>0.0</td>\n",
       "      <td>0.0</td>\n",
       "      <td>1.0</td>\n",
       "      <td>0.319588</td>\n",
       "      <td>0.280612</td>\n",
       "      <td>1.000000</td>\n",
       "      <td>0.431667</td>\n",
       "      <td>0.147260</td>\n",
       "      <td>0.149485</td>\n",
       "      <td>0.275064</td>\n",
       "      <td>0.129252</td>\n",
       "    </tr>\n",
       "    <tr>\n",
       "      <th>4266</th>\n",
       "      <td>0.4</td>\n",
       "      <td>0.0</td>\n",
       "      <td>0.0</td>\n",
       "      <td>0.649485</td>\n",
       "      <td>0.602041</td>\n",
       "      <td>0.888889</td>\n",
       "      <td>0.261667</td>\n",
       "      <td>0.044521</td>\n",
       "      <td>0.639175</td>\n",
       "      <td>0.457584</td>\n",
       "      <td>0.496599</td>\n",
       "    </tr>\n",
       "    <tr>\n",
       "      <th>4267</th>\n",
       "      <td>0.2</td>\n",
       "      <td>0.0</td>\n",
       "      <td>0.0</td>\n",
       "      <td>0.402062</td>\n",
       "      <td>0.318878</td>\n",
       "      <td>0.333333</td>\n",
       "      <td>0.800000</td>\n",
       "      <td>0.284247</td>\n",
       "      <td>0.036082</td>\n",
       "      <td>0.354756</td>\n",
       "      <td>0.394558</td>\n",
       "    </tr>\n",
       "    <tr>\n",
       "      <th>4268</th>\n",
       "      <td>0.2</td>\n",
       "      <td>1.0</td>\n",
       "      <td>0.0</td>\n",
       "      <td>0.927835</td>\n",
       "      <td>0.750000</td>\n",
       "      <td>0.444444</td>\n",
       "      <td>0.511667</td>\n",
       "      <td>0.613014</td>\n",
       "      <td>0.608247</td>\n",
       "      <td>0.910026</td>\n",
       "      <td>0.816327</td>\n",
       "    </tr>\n",
       "  </tbody>\n",
       "</table>\n",
       "<p>4269 rows × 11 columns</p>\n",
       "</div>"
      ],
      "text/plain": [
       "       no_of_dependents   education   self_employed   income_annum  \\\n",
       "0                   0.4         1.0             0.0       0.969072   \n",
       "1                   0.0         0.0             1.0       0.402062   \n",
       "2                   0.6         1.0             0.0       0.917526   \n",
       "3                   0.6         1.0             0.0       0.824742   \n",
       "4                   1.0         0.0             1.0       0.989691   \n",
       "...                 ...         ...             ...            ...   \n",
       "4264                1.0         1.0             1.0       0.082474   \n",
       "4265                0.0         0.0             1.0       0.319588   \n",
       "4266                0.4         0.0             0.0       0.649485   \n",
       "4267                0.2         0.0             0.0       0.402062   \n",
       "4268                0.2         1.0             0.0       0.927835   \n",
       "\n",
       "       loan_amount   loan_term   cibil_score   residential_assets_value  \\\n",
       "0         0.755102    0.555556      0.796667                   0.085616   \n",
       "1         0.303571    0.333333      0.195000                   0.095890   \n",
       "2         0.750000    1.000000      0.343333                   0.246575   \n",
       "3         0.775510    0.333333      0.278333                   0.626712   \n",
       "4         0.609694    1.000000      0.136667                   0.428082   \n",
       "...            ...         ...           ...                        ...   \n",
       "4264      0.051020    0.555556      0.028333                   0.099315   \n",
       "4265      0.280612    1.000000      0.431667                   0.147260   \n",
       "4266      0.602041    0.888889      0.261667                   0.044521   \n",
       "4267      0.318878    0.333333      0.800000                   0.284247   \n",
       "4268      0.750000    0.444444      0.511667                   0.613014   \n",
       "\n",
       "       commercial_assets_value   luxury_assets_value   bank_asset_value  \n",
       "0                     0.907216              0.575835           0.544218  \n",
       "1                     0.113402              0.218509           0.224490  \n",
       "2                     0.231959              0.848329           0.870748  \n",
       "3                     0.170103              0.591260           0.537415  \n",
       "4                     0.422680              0.748072           0.340136  \n",
       "...                        ...                   ...                ...  \n",
       "4264                  0.025773              0.077121           0.054422  \n",
       "4265                  0.149485              0.275064           0.129252  \n",
       "4266                  0.639175              0.457584           0.496599  \n",
       "4267                  0.036082              0.354756           0.394558  \n",
       "4268                  0.608247              0.910026           0.816327  \n",
       "\n",
       "[4269 rows x 11 columns]"
      ]
     },
     "execution_count": 33,
     "metadata": {},
     "output_type": "execute_result"
    }
   ],
   "source": [
    "main_1"
   ]
  },
  {
   "cell_type": "markdown",
   "id": "e6f5ba61",
   "metadata": {},
   "source": [
    "### Splitting the Dataset into Training and Testing"
   ]
  },
  {
   "cell_type": "code",
   "execution_count": 34,
   "id": "6b896fec",
   "metadata": {},
   "outputs": [
    {
     "name": "stdout",
     "output_type": "stream",
     "text": [
      "(3201, 11) (1068, 11) (3201,) (1068,)\n"
     ]
    }
   ],
   "source": [
    "X_train, X_test, Y_train, Y_test= train_test_split(main_1, Y, test_size=0.25,random_state=108)\n",
    "print (X_train.shape, X_test.shape, Y_train.shape, Y_test.shape)"
   ]
  },
  {
   "cell_type": "code",
   "execution_count": 35,
   "id": "fac74d57",
   "metadata": {},
   "outputs": [
    {
     "name": "stdout",
     "output_type": "stream",
     "text": [
      "Shape of X_train: (3201, 11)\n",
      "Shape of Y_train: (3201,)\n"
     ]
    }
   ],
   "source": [
    "print(\"Shape of X_train:\", X_train.shape)\n",
    "print(\"Shape of Y_train:\", Y_train.shape)\n"
   ]
  },
  {
   "cell_type": "code",
   "execution_count": 36,
   "id": "f893083f",
   "metadata": {},
   "outputs": [
    {
     "data": {
      "text/plain": [
       "1    1986\n",
       "0    1215\n",
       "Name:  loan_status, dtype: int64"
      ]
     },
     "execution_count": 36,
     "metadata": {},
     "output_type": "execute_result"
    }
   ],
   "source": [
    "Y_train.value_counts()"
   ]
  },
  {
   "cell_type": "markdown",
   "id": "93721ae1",
   "metadata": {},
   "source": [
    "### Creating a Class Weight"
   ]
  },
  {
   "cell_type": "code",
   "execution_count": 37,
   "id": "94f0e07f",
   "metadata": {},
   "outputs": [],
   "source": [
    "class_weights = dict(zip(Y_train.unique(),class_weight.compute_class_weight(class_weight='balanced',classes=Y_train.unique(),y=Y_train)))"
   ]
  },
  {
   "cell_type": "code",
   "execution_count": 38,
   "id": "afd769fa",
   "metadata": {},
   "outputs": [
    {
     "data": {
      "text/plain": [
       "{1: 0.8058912386706949, 0: 1.317283950617284}"
      ]
     },
     "execution_count": 38,
     "metadata": {},
     "output_type": "execute_result"
    }
   ],
   "source": [
    "class_weights"
   ]
  },
  {
   "cell_type": "markdown",
   "id": "7bebc7f1",
   "metadata": {},
   "source": [
    "### Implementing the Models"
   ]
  },
  {
   "cell_type": "markdown",
   "id": "109a1116",
   "metadata": {},
   "source": [
    "### Random Forest"
   ]
  },
  {
   "cell_type": "code",
   "execution_count": 39,
   "id": "46edf4f5",
   "metadata": {},
   "outputs": [
    {
     "data": {
      "text/plain": [
       "RandomForestClassifier(min_samples_leaf=0.01, n_estimators=10, n_jobs=-1,\n",
       "                       random_state=108)"
      ]
     },
     "execution_count": 39,
     "metadata": {},
     "output_type": "execute_result"
    }
   ],
   "source": [
    "rf=RandomForestClassifier(n_estimators=10,n_jobs=-1, min_samples_leaf = 0.01, random_state=108)\n",
    "rf.fit(X_train,Y_train)"
   ]
  },
  {
   "cell_type": "code",
   "execution_count": 40,
   "id": "0aa6680b",
   "metadata": {},
   "outputs": [
    {
     "name": "stdout",
     "output_type": "stream",
     "text": [
      "Accuracy on training data:  0.9693845673227116\n",
      "Precision on training data: 0.9753272910372608\n",
      "Recall on training data: 0.9753272910372608\n"
     ]
    }
   ],
   "source": [
    "train_pred1 = rf.predict(X_train)\n",
    "\n",
    "print(\"Accuracy on training data: \", metrics.accuracy_score(Y_train, train_pred1))\n",
    "print(\"Precision on training data:\", metrics.precision_score(Y_train, train_pred1))\n",
    "print(\"Recall on training data:\", metrics.recall_score(Y_train, train_pred1))"
   ]
  },
  {
   "cell_type": "code",
   "execution_count": 41,
   "id": "618ffb49",
   "metadata": {},
   "outputs": [
    {
     "name": "stdout",
     "output_type": "stream",
     "text": [
      "Accuracy on testing data:  0.9672284644194756\n",
      "Precision on testing data: 0.96759941089838\n",
      "Recall on testing data:  0.9805970149253731\n"
     ]
    }
   ],
   "source": [
    "test_pred1=rf.predict(X_test)\n",
    "\n",
    "print(\"Accuracy on testing data: \", metrics.accuracy_score(Y_test, test_pred1))\n",
    "print(\"Precision on testing data:\", metrics.precision_score(Y_test,test_pred1))\n",
    "print(\"Recall on testing data: \", metrics.recall_score(Y_test, test_pred1))"
   ]
  },
  {
   "cell_type": "markdown",
   "id": "37a58111",
   "metadata": {},
   "source": [
    "### Random Forest Feature Importance"
   ]
  },
  {
   "cell_type": "code",
   "execution_count": 42,
   "id": "d3280329",
   "metadata": {},
   "outputs": [],
   "source": [
    "importances = rf.feature_importances_\n"
   ]
  },
  {
   "cell_type": "code",
   "execution_count": 43,
   "id": "f47709c4",
   "metadata": {},
   "outputs": [
    {
     "data": {
      "image/png": "[encoded data removed]",
      "text/plain": [
       "<Figure size 432x288 with 1 Axes>"
      ]
     },
     "metadata": {
      "needs_background": "light"
     },
     "output_type": "display_data"
    }
   ],
   "source": [
    "indices = np.argsort(importances)\n",
    "\n",
    "fig, ax = plt.subplots()\n",
    "ax.barh(range(len(importances)), importances[indices])\n",
    "ax.set_yticks(range(len(importances)))\n",
    "_ = ax.set_yticklabels(np.array(X_train.columns)[indices])\n"
   ]
  },
  {
   "cell_type": "code",
   "execution_count": 44,
   "id": "57d9f58f",
   "metadata": {},
   "outputs": [
    {
     "data": {
      "image/png": "[encoded data removed]",
      "text/plain": [
       "<Figure size 432x288 with 2 Axes>"
      ]
     },
     "metadata": {
      "needs_background": "light"
     },
     "output_type": "display_data"
    }
   ],
   "source": [
    "\n",
    "# Calculate and print confusion matrix\n",
    "conf_matrix1 = confusion_matrix(Y_test, test_pred1)\n",
    "\n",
    "# Plot confusion matrix as a heatmap\n",
    "sns.heatmap(conf_matrix1, annot=True, fmt='d', cmap='Blues')\n",
    "plt.xlabel('Predicted')\n",
    "plt.ylabel('True')\n",
    "plt.title('Confusion Matrix')\n",
    "plt.show()\n"
   ]
  },
  {
   "cell_type": "markdown",
   "id": "2fbd46be",
   "metadata": {},
   "source": [
    "### Random Forest Optimization Using Balanced Weights"
   ]
  },
  {
   "cell_type": "code",
   "execution_count": 45,
   "id": "6f792ee2",
   "metadata": {},
   "outputs": [
    {
     "data": {
      "text/plain": [
       "RandomForestClassifier(class_weight={0: 1.317283950617284,\n",
       "                                     1: 0.8058912386706949},\n",
       "                       min_samples_leaf=0.01, n_estimators=10, n_jobs=-1,\n",
       "                       random_state=108)"
      ]
     },
     "execution_count": 45,
     "metadata": {},
     "output_type": "execute_result"
    }
   ],
   "source": [
    "rf2=RandomForestClassifier(n_estimators=10,n_jobs=-1, min_samples_leaf = 0.01, class_weight=class_weights, random_state=108)\n",
    "rf2.fit(X_train,Y_train)"
   ]
  },
  {
   "cell_type": "code",
   "execution_count": 46,
   "id": "0e73f7d2",
   "metadata": {},
   "outputs": [
    {
     "name": "stdout",
     "output_type": "stream",
     "text": [
      "Accuracy on testing data:  0.9531835205992509\n",
      "Precision on testing data: 0.9936305732484076\n",
      "Recall on testing data:  0.9313432835820895\n"
     ]
    }
   ],
   "source": [
    "test_pred11=rf2.predict(X_test)\n",
    "\n",
    "print(\"Accuracy on testing data: \", metrics.accuracy_score(Y_test, test_pred11))\n",
    "print(\"Precision on testing data:\", metrics.precision_score(Y_test,test_pred11))\n",
    "print(\"Recall on testing data: \", metrics.recall_score(Y_test, test_pred11))\n"
   ]
  },
  {
   "cell_type": "code",
   "execution_count": 47,
   "id": "fd116cad",
   "metadata": {},
   "outputs": [
    {
     "data": {
      "image/png": "[encoded data removed]",
      "text/plain": [
       "<Figure size 432x288 with 2 Axes>"
      ]
     },
     "metadata": {
      "needs_background": "light"
     },
     "output_type": "display_data"
    }
   ],
   "source": [
    "\n",
    "# Calculate and print confusion matrix\n",
    "conf_matrix11 = confusion_matrix(Y_test, test_pred11)\n",
    "\n",
    "# Plot confusion matrix as a heatmap\n",
    "sns.heatmap(conf_matrix11, annot=True, fmt='d', cmap='Blues')\n",
    "plt.xlabel('Predicted')\n",
    "plt.ylabel('True')\n",
    "plt.title('Confusion Matrix')\n",
    "plt.show()\n"
   ]
  },
  {
   "cell_type": "code",
   "execution_count": 48,
   "id": "be7a4130",
   "metadata": {},
   "outputs": [
    {
     "name": "stdout",
     "output_type": "stream",
     "text": [
      "Classification accuracy : 0.9532\n",
      "Classification error : 0.0468\n",
      "Precision : 0.9936\n",
      "Recall or Sensitivity : 0.9313\n",
      "True Positive Rate : 0.9313\n",
      "False Positive Rate : 0.0101\n",
      "Specificity : 0.9899\n"
     ]
    }
   ],
   "source": [
    "TN = conf_matrix11[0, 0]\n",
    "FP = conf_matrix11[0, 1]\n",
    "FN = conf_matrix11[1, 0]\n",
    "TP = conf_matrix11[1, 1]\n",
    "\n",
    "\n",
    "classification_accuracy = (TP + TN) / float(TP + TN + FP + FN)\n",
    "print('Classification accuracy : {0:0.4f}'.format(classification_accuracy))\n",
    "\n",
    "classification_error = (FP + FN) / float(TP + TN + FP + FN)\n",
    "print('Classification error : {0:0.4f}'.format(classification_error))\n",
    "\n",
    "precision = TP / float(TP + FP)\n",
    "print('Precision : {0:0.4f}'.format(precision))\n",
    "\n",
    "recall = TP / float(TP + FN)\n",
    "print('Recall or Sensitivity : {0:0.4f}'.format(recall))\n",
    "\n",
    "true_positive_rate = TP / float(TP + FN)\n",
    "print('True Positive Rate : {0:0.4f}'.format(true_positive_rate))\n",
    "\n",
    "false_positive_rate = FP / float(FP + TN)\n",
    "print('False Positive Rate : {0:0.4f}'.format(false_positive_rate))\n",
    "\n",
    "specificity = TN / (TN + FP)\n",
    "print('Specificity : {0:0.4f}'.format(specificity))"
   ]
  },
  {
   "cell_type": "code",
   "execution_count": 49,
   "id": "4a0c261e",
   "metadata": {},
   "outputs": [
    {
     "data": {
      "image/png": "[encoded data removed]",
      "text/plain": [
       "<Figure size 432x288 with 1 Axes>"
      ]
     },
     "metadata": {
      "needs_background": "light"
     },
     "output_type": "display_data"
    },
    {
     "name": "stdout",
     "output_type": "stream",
     "text": [
      "AUC SCORE:0.9942436060901522\n"
     ]
    }
   ],
   "source": [
    "test_pred1_prob=rf.predict_proba(X_test)[:,1]\n",
    "fpr,tpr,thresholds=roc_curve(Y_test,test_pred1_prob)\n",
    "plt.plot(fpr,tpr)\n",
    "plt.xlabel('False Positive Rate')\n",
    "plt.ylabel('True Positive Rate')\n",
    "plt.show()\n",
    "print(f'AUC SCORE:{roc_auc_score(Y_test,test_pred1_prob)}')"
   ]
  },
  {
   "cell_type": "markdown",
   "id": "33961a0c",
   "metadata": {},
   "source": [
    "### Logistics Regression Model"
   ]
  },
  {
   "cell_type": "code",
   "execution_count": 50,
   "id": "d206a502",
   "metadata": {},
   "outputs": [
    {
     "data": {
      "text/plain": [
       "LogisticRegression()"
      ]
     },
     "execution_count": 50,
     "metadata": {},
     "output_type": "execute_result"
    }
   ],
   "source": [
    "log_model = LogisticRegression()\n",
    "log_model.fit(X_train, Y_train)"
   ]
  },
  {
   "cell_type": "markdown",
   "id": "cc436593",
   "metadata": {},
   "source": [
    "Evaluating the Training Data"
   ]
  },
  {
   "cell_type": "code",
   "execution_count": 51,
   "id": "ba665f7a",
   "metadata": {},
   "outputs": [
    {
     "name": "stdout",
     "output_type": "stream",
     "text": [
      "Accuracy on training data:  0.9172133708216182\n",
      "Precision on training data: 0.9283225485316078\n",
      "Recall on training data: 0.9390735146022156\n"
     ]
    }
   ],
   "source": [
    "train_pred2 = log_model.predict(X_train)\n",
    "\n",
    "print(\"Accuracy on training data: \", metrics.accuracy_score(Y_train, train_pred2))\n",
    "print(\"Precision on training data:\", metrics.precision_score(Y_train, train_pred2))\n",
    "print(\"Recall on training data:\", metrics.recall_score(Y_train, train_pred2))"
   ]
  },
  {
   "cell_type": "markdown",
   "id": "19ecaaee",
   "metadata": {},
   "source": [
    "Evaluating the testing Data"
   ]
  },
  {
   "cell_type": "code",
   "execution_count": 52,
   "id": "946d434a",
   "metadata": {},
   "outputs": [
    {
     "name": "stdout",
     "output_type": "stream",
     "text": [
      "Accuracy on testing data:  0.9204119850187266\n",
      "Precision on testing data: 0.9411764705882353\n",
      "Recall on testing data:  0.9313432835820895\n"
     ]
    }
   ],
   "source": [
    "test_pred2=log_model.predict(X_test)\n",
    "\n",
    "print(\"Accuracy on testing data: \", metrics.accuracy_score(Y_test, test_pred2))\n",
    "print(\"Precision on testing data:\", metrics.precision_score(Y_test,test_pred2))\n",
    "print(\"Recall on testing data: \", metrics.recall_score(Y_test, test_pred2))"
   ]
  },
  {
   "cell_type": "markdown",
   "id": "fe35deca",
   "metadata": {},
   "source": [
    "### Feature Importance for Logistics Regression"
   ]
  },
  {
   "cell_type": "code",
   "execution_count": 53,
   "id": "d0957fa5",
   "metadata": {},
   "outputs": [
    {
     "data": {
      "image/png": "[encoded data removed]",
      "text/plain": [
       "<Figure size 432x288 with 1 Axes>"
      ]
     },
     "metadata": {
      "needs_background": "light"
     },
     "output_type": "display_data"
    }
   ],
   "source": [
    "\n",
    "# Get the coefficients (weights) of the logistic regression model\n",
    "coefficients = log_model.coef_[0]\n",
    "\n",
    "# Get the absolute values of coefficients for feature importance\n",
    "feature_importance = np.abs(coefficients)\n",
    "\n",
    "# Get the indices of features sorted by importance\n",
    "indices = np.argsort(feature_importance)\n",
    "\n",
    "# Plotting\n",
    "fig, ax = plt.subplots()\n",
    "ax.barh(range(len(feature_importance)), feature_importance[indices])\n",
    "ax.set_yticks(range(len(feature_importance)))\n",
    "_ = ax.set_yticklabels(np.array(X_train.columns)[indices])\n",
    "plt.xlabel('Coefficient Magnitude')\n",
    "plt.ylabel('Features')\n",
    "plt.title('Feature Importance in Logistic Regression')\n",
    "plt.show()\n"
   ]
  },
  {
   "cell_type": "code",
   "execution_count": 54,
   "id": "77dbd380",
   "metadata": {
    "scrolled": true
   },
   "outputs": [
    {
     "data": {
      "image/png": "[encoded data removed]",
      "text/plain": [
       "<Figure size 432x288 with 2 Axes>"
      ]
     },
     "metadata": {
      "needs_background": "light"
     },
     "output_type": "display_data"
    }
   ],
   "source": [
    "\n",
    "# Calculate and print confusion matrix\n",
    "conf_matrix2 = confusion_matrix(Y_test, test_pred2)\n",
    "\n",
    "# Plot confusion matrix as a heatmap\n",
    "sns.heatmap(conf_matrix2, annot=True, fmt='d', cmap='Blues')\n",
    "plt.xlabel('Predicted')\n",
    "plt.ylabel('True')\n",
    "plt.title('Confusion Matrix')\n",
    "plt.show()"
   ]
  },
  {
   "cell_type": "markdown",
   "id": "896c4bbd",
   "metadata": {},
   "source": [
    "### Optimizing using Balanced Weights for Logistics Regression"
   ]
  },
  {
   "cell_type": "code",
   "execution_count": 55,
   "id": "ec3ac0ba",
   "metadata": {},
   "outputs": [
    {
     "data": {
      "text/plain": [
       "LogisticRegression(class_weight={0: 1.317283950617284, 1: 0.8058912386706949})"
      ]
     },
     "execution_count": 55,
     "metadata": {},
     "output_type": "execute_result"
    }
   ],
   "source": [
    "log_model = LogisticRegression(class_weight = class_weights)\n",
    "log_model.fit(X_train, Y_train)\n"
   ]
  },
  {
   "cell_type": "code",
   "execution_count": 56,
   "id": "f473348a",
   "metadata": {},
   "outputs": [
    {
     "name": "stdout",
     "output_type": "stream",
     "text": [
      "Accuracy on testing data:  0.9250936329588015\n",
      "Precision on testing data: 0.9667721518987342\n",
      "Recall on testing data:  0.9119402985074627\n"
     ]
    }
   ],
   "source": [
    "test_pred22=log_model.predict(X_test)\n",
    "\n",
    "print(\"Accuracy on testing data: \", metrics.accuracy_score(Y_test, test_pred22))\n",
    "print(\"Precision on testing data:\", metrics.precision_score(Y_test,test_pred22))\n",
    "print(\"Recall on testing data: \", metrics.recall_score(Y_test, test_pred22))"
   ]
  },
  {
   "cell_type": "code",
   "execution_count": 57,
   "id": "6883206a",
   "metadata": {},
   "outputs": [
    {
     "data": {
      "image/png": "[encoded data removed]",
      "text/plain": [
       "<Figure size 432x288 with 2 Axes>"
      ]
     },
     "metadata": {
      "needs_background": "light"
     },
     "output_type": "display_data"
    }
   ],
   "source": [
    "\n",
    "# Calculate and print confusion matrix\n",
    "conf_matrix22 = confusion_matrix(Y_test, test_pred22)\n",
    "\n",
    "# Plot confusion matrix as a heatmap\n",
    "sns.heatmap(conf_matrix22, annot=True, fmt='d', cmap='Blues')\n",
    "plt.xlabel('Predicted')\n",
    "plt.ylabel('True')\n",
    "plt.title('Confusion Matrix')\n",
    "plt.show()"
   ]
  },
  {
   "cell_type": "code",
   "execution_count": 58,
   "id": "4204f836",
   "metadata": {},
   "outputs": [
    {
     "name": "stdout",
     "output_type": "stream",
     "text": [
      "Classification accuracy : 0.9251\n",
      "Classification error : 0.0749\n",
      "Precision : 0.9668\n",
      "Recall or Sensitivity : 0.9119\n",
      "True Positive Rate : 0.9119\n",
      "False Positive Rate : 0.0528\n",
      "Specificity : 0.9472\n"
     ]
    }
   ],
   "source": [
    "TN = conf_matrix22[0, 0]\n",
    "FP = conf_matrix22[0, 1]\n",
    "FN = conf_matrix22[1, 0]\n",
    "TP = conf_matrix22[1, 1]\n",
    "\n",
    "\n",
    "classification_accuracy = (TP + TN) / float(TP + TN + FP + FN)\n",
    "print('Classification accuracy : {0:0.4f}'.format(classification_accuracy))\n",
    "\n",
    "classification_error = (FP + FN) / float(TP + TN + FP + FN)\n",
    "print('Classification error : {0:0.4f}'.format(classification_error))\n",
    "\n",
    "precision = TP / float(TP + FP)\n",
    "print('Precision : {0:0.4f}'.format(precision))\n",
    "\n",
    "recall = TP / float(TP + FN)\n",
    "print('Recall or Sensitivity : {0:0.4f}'.format(recall))\n",
    "\n",
    "true_positive_rate = TP / float(TP + FN)\n",
    "print('True Positive Rate : {0:0.4f}'.format(true_positive_rate))\n",
    "\n",
    "false_positive_rate = FP / float(FP + TN)\n",
    "print('False Positive Rate : {0:0.4f}'.format(false_positive_rate))\n",
    "\n",
    "specificity = TN / (TN + FP)\n",
    "print('Specificity : {0:0.4f}'.format(specificity))"
   ]
  },
  {
   "cell_type": "code",
   "execution_count": 59,
   "id": "2e8cbb6c",
   "metadata": {},
   "outputs": [
    {
     "data": {
      "image/png": "[encoded data removed]",
      "text/plain": [
       "<Figure size 432x288 with 1 Axes>"
      ]
     },
     "metadata": {
      "needs_background": "light"
     },
     "output_type": "display_data"
    },
    {
     "name": "stdout",
     "output_type": "stream",
     "text": [
      "AUC SCORE:0.9661591539788495\n"
     ]
    }
   ],
   "source": [
    "cl=[('Logistic Regression',log_model)]\n",
    "for clf_name,clf in cl:\n",
    "    clf.fit(X_train,Y_train)\n",
    "    test_pred2_proba=clf.predict_proba(X_test)[:,1]\n",
    "    fpr,tpr,thresholds=roc_curve(Y_test,test_pred2_proba)\n",
    "    plt.plot(fpr,tpr)\n",
    "    plt.xlabel('FPR')\n",
    "    plt.ylabel('TPR')\n",
    "    plt.title(clf_name)\n",
    "    plt.show()\n",
    "    print(f'AUC SCORE:{roc_auc_score(Y_test,test_pred2_proba)}')"
   ]
  },
  {
   "cell_type": "markdown",
   "id": "a4a72656",
   "metadata": {},
   "source": [
    "### Support Vector Machine"
   ]
  },
  {
   "cell_type": "code",
   "execution_count": 60,
   "id": "0b4f8a85",
   "metadata": {},
   "outputs": [
    {
     "data": {
      "text/plain": [
       "SVC(kernel='linear', probability=True)"
      ]
     },
     "execution_count": 60,
     "metadata": {},
     "output_type": "execute_result"
    }
   ],
   "source": [
    "svm = SVC(kernel='linear', probability = True)\n",
    "svm.fit (X_train, Y_train)"
   ]
  },
  {
   "cell_type": "markdown",
   "id": "b4c854e9",
   "metadata": {},
   "source": [
    " Evaluating the Training Data"
   ]
  },
  {
   "cell_type": "code",
   "execution_count": 61,
   "id": "b02763c7",
   "metadata": {},
   "outputs": [
    {
     "name": "stdout",
     "output_type": "stream",
     "text": [
      "Accuracy on training data:  0.9278350515463918\n",
      "Precision on training data: 0.9483903934593766\n",
      "Recall on training data: 0.9345417925478349\n"
     ]
    }
   ],
   "source": [
    "train_pred3 = svm.predict(X_train)\n",
    "\n",
    "print(\"Accuracy on training data: \", metrics.accuracy_score(Y_train, train_pred3))\n",
    "print(\"Precision on training data:\", metrics.precision_score(Y_train, train_pred3))\n",
    "print(\"Recall on training data:\", metrics.recall_score(Y_train, train_pred3))"
   ]
  },
  {
   "cell_type": "markdown",
   "id": "d1d9750f",
   "metadata": {},
   "source": [
    "Evaluating the testing Data"
   ]
  },
  {
   "cell_type": "code",
   "execution_count": 62,
   "id": "67e5e384",
   "metadata": {},
   "outputs": [
    {
     "name": "stdout",
     "output_type": "stream",
     "text": [
      "Accuracy on testing data:  0.9288389513108615\n",
      "Precision on testing data: 0.9541284403669725\n",
      "Recall on testing data:  0.9313432835820895\n"
     ]
    }
   ],
   "source": [
    "test_pred3=svm.predict(X_test)\n",
    "\n",
    "print(\"Accuracy on testing data: \", metrics.accuracy_score(Y_test, test_pred3))\n",
    "print(\"Precision on testing data:\", metrics.precision_score(Y_test,test_pred3))\n",
    "print(\"Recall on testing data: \", metrics.recall_score(Y_test, test_pred3))"
   ]
  },
  {
   "cell_type": "markdown",
   "id": "50de70f6",
   "metadata": {},
   "source": [
    "### Feature Importance for SVM"
   ]
  },
  {
   "cell_type": "code",
   "execution_count": 63,
   "id": "a888a557",
   "metadata": {},
   "outputs": [
    {
     "data": {
      "image/png": "[encoded data removed]",
      "text/plain": [
       "<Figure size 432x288 with 1 Axes>"
      ]
     },
     "metadata": {
      "needs_background": "light"
     },
     "output_type": "display_data"
    }
   ],
   "source": [
    "from sklearn.inspection import permutation_importance\n",
    "\n",
    "# Assuming you have a trained SVM model named 'svm_model' and X_train containing your training data\n",
    "\n",
    "# Compute permutation importance\n",
    "perm_importance = permutation_importance(svm, X_train, Y_train, n_repeats=30, random_state=0)\n",
    "\n",
    "# Get the feature importance scores\n",
    "feature_importance = perm_importance.importances_mean\n",
    "\n",
    "# Get the indices of features sorted by importance\n",
    "indices = np.argsort(feature_importance)\n",
    "\n",
    "# Plotting\n",
    "fig, ax = plt.subplots()\n",
    "ax.barh(range(len(feature_importance)), feature_importance[indices])\n",
    "ax.set_yticks(range(len(feature_importance)))\n",
    "_ = ax.set_yticklabels(np.array(X_train.columns)[indices])\n",
    "plt.xlabel('Permutation Importance')\n",
    "plt.ylabel('Features')\n",
    "plt.title('Feature Importance in SVM Classifier (Permutation Importance)')\n",
    "plt.show()\n"
   ]
  },
  {
   "cell_type": "code",
   "execution_count": 64,
   "id": "32d94f47",
   "metadata": {},
   "outputs": [
    {
     "data": {
      "image/png": "[encoded data removed]",
      "text/plain": [
       "<Figure size 432x288 with 2 Axes>"
      ]
     },
     "metadata": {
      "needs_background": "light"
     },
     "output_type": "display_data"
    }
   ],
   "source": [
    "\n",
    "# Calculate and print confusion matrix\n",
    "conf_matrix3 = confusion_matrix(Y_test, test_pred3)\n",
    "\n",
    "# Plot confusion matrix as a heatmap\n",
    "sns.heatmap(conf_matrix3, annot=True, fmt='d', cmap='Blues')\n",
    "plt.xlabel('Predicted')\n",
    "plt.ylabel('True')\n",
    "plt.title('Confusion Matrix')\n",
    "plt.show()"
   ]
  },
  {
   "cell_type": "markdown",
   "id": "316fe38b",
   "metadata": {},
   "source": [
    "### Optimizing Using Balanced Weights for Support Vector Machine"
   ]
  },
  {
   "cell_type": "code",
   "execution_count": 65,
   "id": "76821783",
   "metadata": {},
   "outputs": [
    {
     "data": {
      "text/plain": [
       "SVC(class_weight={0: 1.317283950617284, 1: 0.8058912386706949})"
      ]
     },
     "execution_count": 65,
     "metadata": {},
     "output_type": "execute_result"
    }
   ],
   "source": [
    "svm= SVC (class_weight = class_weights)\n",
    "svm.fit(X_train, Y_train)"
   ]
  },
  {
   "cell_type": "code",
   "execution_count": 66,
   "id": "83ae0d3f",
   "metadata": {},
   "outputs": [
    {
     "name": "stdout",
     "output_type": "stream",
     "text": [
      "Accuracy on testing data:  0.9382022471910112\n",
      "Precision on testing data: 0.9808917197452229\n",
      "Recall on testing data:  0.9194029850746268\n"
     ]
    }
   ],
   "source": [
    "test_pred33=svm.predict(X_test)\n",
    "\n",
    "print(\"Accuracy on testing data: \", metrics.accuracy_score(Y_test, test_pred33))\n",
    "print(\"Precision on testing data:\", metrics.precision_score(Y_test,test_pred33))\n",
    "print(\"Recall on testing data: \", metrics.recall_score(Y_test, test_pred33))\n",
    "\n"
   ]
  },
  {
   "cell_type": "code",
   "execution_count": 67,
   "id": "14ffa12f",
   "metadata": {},
   "outputs": [
    {
     "data": {
      "image/png": "[encoded data removed]",
      "text/plain": [
       "<Figure size 432x288 with 2 Axes>"
      ]
     },
     "metadata": {
      "needs_background": "light"
     },
     "output_type": "display_data"
    }
   ],
   "source": [
    "\n",
    "# Calculate and print confusion matrix\n",
    "conf_matrix33 = confusion_matrix(Y_test, test_pred33)\n",
    "\n",
    "# Plot confusion matrix as a heatmap\n",
    "sns.heatmap(conf_matrix33, annot=True, fmt='d', cmap='Blues')\n",
    "plt.xlabel('Predicted')\n",
    "plt.ylabel('True')\n",
    "plt.title('Confusion Matrix')\n",
    "plt.show()"
   ]
  },
  {
   "cell_type": "code",
   "execution_count": 68,
   "id": "b9ea3c45",
   "metadata": {},
   "outputs": [
    {
     "name": "stdout",
     "output_type": "stream",
     "text": [
      "Classification accuracy : 0.9382\n",
      "Classification error : 0.0618\n",
      "Precision : 0.9809\n",
      "Recall or Sensitivity : 0.9194\n",
      "True Positive Rate : 0.9194\n",
      "False Positive Rate : 0.0302\n",
      "Specificity : 0.9698\n"
     ]
    }
   ],
   "source": [
    "TN = conf_matrix33[0, 0]\n",
    "FP = conf_matrix33[0, 1]\n",
    "FN = conf_matrix33[1, 0]\n",
    "TP = conf_matrix33[1, 1]\n",
    "\n",
    "\n",
    "classification_accuracy = (TP + TN) / float(TP + TN + FP + FN)\n",
    "print('Classification accuracy : {0:0.4f}'.format(classification_accuracy))\n",
    "\n",
    "classification_error = (FP + FN) / float(TP + TN + FP + FN)\n",
    "print('Classification error : {0:0.4f}'.format(classification_error))\n",
    "\n",
    "precision = TP / float(TP + FP)\n",
    "print('Precision : {0:0.4f}'.format(precision))\n",
    "\n",
    "recall = TP / float(TP + FN)\n",
    "print('Recall or Sensitivity : {0:0.4f}'.format(recall))\n",
    "\n",
    "true_positive_rate = TP / float(TP + FN)\n",
    "print('True Positive Rate : {0:0.4f}'.format(true_positive_rate))\n",
    "\n",
    "false_positive_rate = FP / float(FP + TN)\n",
    "print('False Positive Rate : {0:0.4f}'.format(false_positive_rate))\n",
    "\n",
    "specificity = TN / (TN + FP)\n",
    "print('Specificity : {0:0.4f}'.format(specificity))"
   ]
  },
  {
   "cell_type": "markdown",
   "id": "81a05479",
   "metadata": {},
   "source": [
    "### Naive Bayes Model"
   ]
  },
  {
   "cell_type": "code",
   "execution_count": 69,
   "id": "994b1028",
   "metadata": {},
   "outputs": [
    {
     "data": {
      "text/plain": [
       "GaussianNB()"
      ]
     },
     "execution_count": 69,
     "metadata": {},
     "output_type": "execute_result"
    }
   ],
   "source": [
    "Nb = GaussianNB()\n",
    "Nb.fit(X_train, Y_train)"
   ]
  },
  {
   "cell_type": "code",
   "execution_count": 70,
   "id": "adef8a16",
   "metadata": {},
   "outputs": [
    {
     "name": "stdout",
     "output_type": "stream",
     "text": [
      "Accuracy on training data:  0.9322086847860044\n",
      "Precision on training data: 0.9510453850076491\n",
      "Recall on training data: 0.9390735146022156\n"
     ]
    }
   ],
   "source": [
    "train_pred4 = Nb.predict(X_train)\n",
    "\n",
    "print(\"Accuracy on training data: \", metrics.accuracy_score(Y_train, train_pred4))\n",
    "print(\"Precision on training data:\", metrics.precision_score(Y_train, train_pred4))\n",
    "print(\"Recall on training data:\", metrics.recall_score(Y_train, train_pred4))\n"
   ]
  },
  {
   "cell_type": "code",
   "execution_count": 71,
   "id": "075d54fb",
   "metadata": {},
   "outputs": [
    {
     "name": "stdout",
     "output_type": "stream",
     "text": [
      "Accuracy on testing data:  0.9344569288389513\n",
      "Precision on testing data: 0.9545454545454546\n",
      "Recall on testing data:  0.9402985074626866\n"
     ]
    }
   ],
   "source": [
    "test_pred4=Nb.predict(X_test)\n",
    "\n",
    "print(\"Accuracy on testing data: \", metrics.accuracy_score(Y_test, test_pred4))\n",
    "print(\"Precision on testing data:\", metrics.precision_score(Y_test,test_pred4))\n",
    "print(\"Recall on testing data: \", metrics.recall_score(Y_test, test_pred4))"
   ]
  },
  {
   "cell_type": "markdown",
   "id": "67953acf",
   "metadata": {},
   "source": [
    "### Feature Importance for Naive Bayes"
   ]
  },
  {
   "cell_type": "code",
   "execution_count": 72,
   "id": "53e0fbbd",
   "metadata": {},
   "outputs": [
    {
     "data": {
      "image/png": "[encoded data removed]",
      "text/plain": [
       "<Figure size 432x288 with 1 Axes>"
      ]
     },
     "metadata": {
      "needs_background": "light"
     },
     "output_type": "display_data"
    }
   ],
   "source": [
    "\n",
    "feature_means = Nb.theta_  # Mean of each feature per class\n",
    "feature_stds = np.sqrt(Nb.sigma_)  # Standard deviation of each feature per class\n",
    "\n",
    "# Calculate feature importance based on standard deviation across classes\n",
    "feature_importance = np.mean(feature_stds, axis=0)\n",
    "\n",
    "# Plotting\n",
    "fig, ax = plt.subplots()\n",
    "ax.barh(range(len(feature_importance)), feature_importance)\n",
    "ax.set_yticks(range(len(feature_importance)))\n",
    "_ = ax.set_yticklabels(X_train.columns)\n",
    "plt.xlabel('Feature Importance (Standard Deviation)')\n",
    "plt.ylabel('Features')\n",
    "plt.title('Feature Importance in Gaussian Naive Bayes')\n",
    "plt.show()\n"
   ]
  },
  {
   "cell_type": "code",
   "execution_count": 73,
   "id": "7cb115bb",
   "metadata": {},
   "outputs": [
    {
     "data": {
      "image/png": "[encoded data removed]",
      "text/plain": [
       "<Figure size 432x288 with 2 Axes>"
      ]
     },
     "metadata": {
      "needs_background": "light"
     },
     "output_type": "display_data"
    }
   ],
   "source": [
    "\n",
    "# Calculate and print confusion matrix\n",
    "conf_matrix4 = confusion_matrix(Y_test, test_pred4)\n",
    "\n",
    "# Plot confusion matrix as a heatmap\n",
    "sns.heatmap(conf_matrix4, annot=True, fmt='d', cmap='Blues')\n",
    "plt.xlabel('Predicted')\n",
    "plt.ylabel('True')\n",
    "plt.title('Confusion Matrix')\n",
    "plt.show()"
   ]
  },
  {
   "cell_type": "code",
   "execution_count": 74,
   "id": "1c6558bd",
   "metadata": {},
   "outputs": [
    {
     "name": "stdout",
     "output_type": "stream",
     "text": [
      "Classification accuracy : 0.9345\n",
      "Classification error : 0.0655\n",
      "Precision : 0.9545\n",
      "Recall or Sensitivity : 0.9403\n",
      "True Positive Rate : 0.9403\n",
      "False Positive Rate : 0.0754\n",
      "Specificity : 0.9246\n"
     ]
    }
   ],
   "source": [
    "TN = conf_matrix4[0, 0]\n",
    "FP = conf_matrix4[0, 1]\n",
    "FN = conf_matrix4[1, 0]\n",
    "TP = conf_matrix4[1, 1]\n",
    "\n",
    "\n",
    "classification_accuracy = (TP + TN) / float(TP + TN + FP + FN)\n",
    "print('Classification accuracy : {0:0.4f}'.format(classification_accuracy))\n",
    "\n",
    "classification_error = (FP + FN) / float(TP + TN + FP + FN)\n",
    "print('Classification error : {0:0.4f}'.format(classification_error))\n",
    "\n",
    "precision = TP / float(TP + FP)\n",
    "print('Precision : {0:0.4f}'.format(precision))\n",
    "\n",
    "recall = TP / float(TP + FN)\n",
    "print('Recall or Sensitivity : {0:0.4f}'.format(recall))\n",
    "\n",
    "true_positive_rate = TP / float(TP + FN)\n",
    "print('True Positive Rate : {0:0.4f}'.format(true_positive_rate))\n",
    "\n",
    "false_positive_rate = FP / float(FP + TN)\n",
    "print('False Positive Rate : {0:0.4f}'.format(false_positive_rate))\n",
    "\n",
    "specificity = TN / (TN + FP)\n",
    "print('Specificity : {0:0.4f}'.format(specificity))"
   ]
  },
  {
   "cell_type": "code",
   "execution_count": 75,
   "id": "b45fa719",
   "metadata": {},
   "outputs": [
    {
     "data": {
      "image/png": "[encoded data removed]",
      "text/plain": [
       "<Figure size 432x288 with 1 Axes>"
      ]
     },
     "metadata": {
      "needs_background": "light"
     },
     "output_type": "display_data"
    },
    {
     "name": "stdout",
     "output_type": "stream",
     "text": [
      "AUC SCORE:0.9657428935723394\n"
     ]
    }
   ],
   "source": [
    "test_pred4_prob=Nb.predict_proba(X_test)[:,1]\n",
    "fpr,tpr,thresholds=roc_curve(Y_test,test_pred4_prob)\n",
    "plt.plot(fpr,tpr)\n",
    "plt.xlabel('False Positive Rate')\n",
    "plt.ylabel('True Positive Rate')\n",
    "plt.show()\n",
    "print(f'AUC SCORE:{roc_auc_score(Y_test,test_pred4_prob)}')"
   ]
  },
  {
   "cell_type": "markdown",
   "id": "9544e87e",
   "metadata": {},
   "source": [
    "### Voting Classifier"
   ]
  },
  {
   "cell_type": "code",
   "execution_count": 76,
   "id": "c0bfe5fa",
   "metadata": {},
   "outputs": [],
   "source": [
    "estimator = [] \n",
    "estimator.append(('Naive Bayes',  \n",
    "                  GaussianNB())) \n",
    "estimator.append(('Random Forest', RandomForestClassifier(n_estimators=10,n_jobs=-1, min_samples_leaf = 0.01, random_state=108)))\n",
    "estimator.append(('Logistics Regression',  \n",
    "                  LogisticRegression())) "
   ]
  },
  {
   "cell_type": "code",
   "execution_count": 77,
   "id": "807a441c",
   "metadata": {},
   "outputs": [
    {
     "data": {
      "text/plain": [
       "VotingClassifier(estimators=[('Naive Bayes', GaussianNB()),\n",
       "                             ('Random Forest',\n",
       "                              RandomForestClassifier(min_samples_leaf=0.01,\n",
       "                                                     n_estimators=10, n_jobs=-1,\n",
       "                                                     random_state=108)),\n",
       "                             ('Logistics Regression', LogisticRegression())],\n",
       "                 voting='soft')"
      ]
     },
     "execution_count": 77,
     "metadata": {},
     "output_type": "execute_result"
    }
   ],
   "source": [
    "Vc = VotingClassifier(estimators= estimator, voting = 'soft')\n",
    "Vc.fit(X_train, Y_train)"
   ]
  },
  {
   "cell_type": "code",
   "execution_count": 78,
   "id": "a639ae3f",
   "metadata": {},
   "outputs": [
    {
     "name": "stdout",
     "output_type": "stream",
     "text": [
      "Accuracy on training data:  0.9562636676038738\n",
      "Precision on training data: 0.9827405857740585\n",
      "Recall on training data: 0.946122860020141\n"
     ]
    }
   ],
   "source": [
    "train_pred5 = Vc.predict(X_train)\n",
    "\n",
    "print(\"Accuracy on training data: \", metrics.accuracy_score(Y_train, train_pred5))\n",
    "print(\"Precision on training data:\", metrics.precision_score(Y_train, train_pred5))\n",
    "print(\"Recall on training data:\", metrics.recall_score(Y_train, train_pred5))\n"
   ]
  },
  {
   "cell_type": "code",
   "execution_count": 79,
   "id": "135a5fee",
   "metadata": {},
   "outputs": [
    {
     "name": "stdout",
     "output_type": "stream",
     "text": [
      "Accuracy on testing data:  0.9569288389513109\n",
      "Precision on testing data: 0.984472049689441\n",
      "Recall on testing data:  0.9462686567164179\n"
     ]
    }
   ],
   "source": [
    "test_pred5=Vc.predict(X_test)\n",
    "\n",
    "print(\"Accuracy on testing data: \", metrics.accuracy_score(Y_test, test_pred5))\n",
    "print(\"Precision on testing data:\", metrics.precision_score(Y_test,test_pred5))\n",
    "print(\"Recall on testing data: \", metrics.recall_score(Y_test, test_pred5))\n"
   ]
  },
  {
   "cell_type": "markdown",
   "id": "39aa54b6",
   "metadata": {},
   "source": [
    "### Feature Importance for Voting Classifier"
   ]
  },
  {
   "cell_type": "code",
   "execution_count": 80,
   "id": "7d4a5699",
   "metadata": {},
   "outputs": [
    {
     "data": {
      "image/png": "[encoded data removed]",
      "text/plain": [
       "<Figure size 720x432 with 1 Axes>"
      ]
     },
     "metadata": {
      "needs_background": "light"
     },
     "output_type": "display_data"
    }
   ],
   "source": [
    "original_feature_names = ['no_of_dependents', 'education', 'self_employed', 'income_annum', 'loan_amount',\n",
    "                          'loan_term', 'cibil_score', 'residential_assets_value', 'commercial_assets_value',\n",
    "                          'luxury_assets_value', 'bank_asset_value']\n",
    "\n",
    "# Calculate feature importance based on individual classifiers\n",
    "feature_importance = np.zeros(X_train.shape[1])\n",
    "\n",
    "for clf_name, clf in Vc.named_estimators_.items():\n",
    "    if hasattr(clf, 'coef_'): \n",
    "        feature_importance += np.abs(clf.coef_[0])\n",
    "    elif hasattr(clf, 'feature_importances_'): \n",
    "        feature_importance += clf.feature_importances_\n",
    "\n",
    "# Normalize feature importance\n",
    "feature_importance /= len(Vc.estimators_)\n",
    "\n",
    "# Plot feature importance\n",
    "plt.figure(figsize=(10, 6))\n",
    "plt.barh(range(X_train.shape[1]), feature_importance, align='center')\n",
    "plt.yticks(range(X_train.shape[1]),original_feature_names)\n",
    "plt.xlabel('Feature Importance')\n",
    "plt.ylabel('Feature Name')\n",
    "plt.title('Feature Importance for Voting Classifier Model')\n",
    "plt.show()"
   ]
  },
  {
   "cell_type": "code",
   "execution_count": 81,
   "id": "9a6d4cae",
   "metadata": {},
   "outputs": [
    {
     "data": {
      "image/png": "[encoded data removed]",
      "text/plain": [
       "<Figure size 432x288 with 2 Axes>"
      ]
     },
     "metadata": {
      "needs_background": "light"
     },
     "output_type": "display_data"
    }
   ],
   "source": [
    "\n",
    "# Calculate and print confusion matrix\n",
    "conf_matrix5 = confusion_matrix(Y_test, test_pred5)\n",
    "\n",
    "# Plot confusion matrix as a heatmap\n",
    "sns.heatmap(conf_matrix5, annot=True, fmt='d', cmap='Blues')\n",
    "plt.xlabel('Predicted')\n",
    "plt.ylabel('True')\n",
    "plt.title('Confusion Matrix')\n",
    "plt.show()"
   ]
  },
  {
   "cell_type": "code",
   "execution_count": 82,
   "id": "9205716a",
   "metadata": {},
   "outputs": [
    {
     "name": "stdout",
     "output_type": "stream",
     "text": [
      "Classification accuracy : 0.9569\n",
      "Classification error : 0.0431\n",
      "Precision : 0.9845\n",
      "Recall or Sensitivity : 0.9463\n",
      "True Positive Rate : 0.9463\n",
      "False Positive Rate : 0.0251\n",
      "Specificity : 0.9749\n"
     ]
    }
   ],
   "source": [
    "TN = conf_matrix5[0, 0]\n",
    "FP = conf_matrix5[0, 1]\n",
    "FN = conf_matrix5[1, 0]\n",
    "TP = conf_matrix5[1, 1]\n",
    "\n",
    "\n",
    "classification_accuracy = (TP + TN) / float(TP + TN + FP + FN)\n",
    "print('Classification accuracy : {0:0.4f}'.format(classification_accuracy))\n",
    "\n",
    "classification_error = (FP + FN) / float(TP + TN + FP + FN)\n",
    "print('Classification error : {0:0.4f}'.format(classification_error))\n",
    "\n",
    "precision = TP / float(TP + FP)\n",
    "print('Precision : {0:0.4f}'.format(precision))\n",
    "\n",
    "recall = TP / float(TP + FN)\n",
    "print('Recall or Sensitivity : {0:0.4f}'.format(recall))\n",
    "\n",
    "true_positive_rate = TP / float(TP + FN)\n",
    "print('True Positive Rate : {0:0.4f}'.format(true_positive_rate))\n",
    "\n",
    "false_positive_rate = FP / float(FP + TN)\n",
    "print('False Positive Rate : {0:0.4f}'.format(false_positive_rate))\n",
    "\n",
    "specificity = TN / (TN + FP)\n",
    "print('Specificity : {0:0.4f}'.format(specificity))"
   ]
  },
  {
   "cell_type": "markdown",
   "id": "8414476b",
   "metadata": {},
   "source": [
    "### KNN Model "
   ]
  },
  {
   "cell_type": "code",
   "execution_count": 83,
   "id": "59c30d8f",
   "metadata": {},
   "outputs": [
    {
     "data": {
      "text/plain": [
       "KNeighborsClassifier(n_neighbors=7)"
      ]
     },
     "execution_count": 83,
     "metadata": {},
     "output_type": "execute_result"
    }
   ],
   "source": [
    "knn = KNeighborsClassifier(n_neighbors=7)\n",
    "knn.fit(X_train, Y_train) "
   ]
  },
  {
   "cell_type": "code",
   "execution_count": 84,
   "id": "3c8ff7ed",
   "metadata": {},
   "outputs": [
    {
     "name": "stdout",
     "output_type": "stream",
     "text": [
      "Accuracy on training data:  0.9325210871602624\n",
      "Precision on training data: 0.9474216380182002\n",
      "Recall on training data: 0.9436052366565961\n"
     ]
    }
   ],
   "source": [
    "train_pred6 = knn.predict(X_train)\n",
    "\n",
    "print(\"Accuracy on training data: \", metrics.accuracy_score(Y_train, train_pred6))\n",
    "print(\"Precision on training data:\", metrics.precision_score(Y_train, train_pred6))\n",
    "print(\"Recall on training data:\", metrics.recall_score(Y_train, train_pred6))\n"
   ]
  },
  {
   "cell_type": "code",
   "execution_count": 85,
   "id": "38e2df81",
   "metadata": {},
   "outputs": [
    {
     "name": "stdout",
     "output_type": "stream",
     "text": [
      "Accuracy on testing data:  0.9166666666666666\n",
      "Precision on testing data: 0.9316493313521546\n",
      "Recall on testing data:  0.935820895522388\n"
     ]
    }
   ],
   "source": [
    "test_pred6=knn.predict(X_test)\n",
    "\n",
    "print(\"Accuracy on testing data: \", metrics.accuracy_score(Y_test, test_pred6))\n",
    "print(\"Precision on testing data:\", metrics.precision_score(Y_test,test_pred6))\n",
    "print(\"Recall on testing data: \", metrics.recall_score(Y_test, test_pred6))\n"
   ]
  },
  {
   "cell_type": "code",
   "execution_count": 86,
   "id": "630730bd",
   "metadata": {},
   "outputs": [
    {
     "data": {
      "image/png": "[encoded data removed]",
      "text/plain": [
       "<Figure size 432x288 with 2 Axes>"
      ]
     },
     "metadata": {
      "needs_background": "light"
     },
     "output_type": "display_data"
    }
   ],
   "source": [
    "\n",
    "# Calculate and print confusion matrix\n",
    "conf_matrix6 = confusion_matrix(Y_test, test_pred6)\n",
    "\n",
    "# Plot confusion matrix as a heatmap\n",
    "sns.heatmap(conf_matrix6, annot=True, fmt='d', cmap='Blues')\n",
    "plt.xlabel('Predicted')\n",
    "plt.ylabel('True')\n",
    "plt.title('Confusion Matrix')\n",
    "plt.show()"
   ]
  },
  {
   "cell_type": "code",
   "execution_count": 87,
   "id": "0b330df6",
   "metadata": {},
   "outputs": [
    {
     "name": "stdout",
     "output_type": "stream",
     "text": [
      "Classification accuracy : 0.9167\n",
      "Classification error : 0.0833\n",
      "Precision : 0.9316\n",
      "Recall or Sensitivity : 0.9358\n",
      "True Positive Rate : 0.9358\n",
      "False Positive Rate : 0.1156\n",
      "Specificity : 0.8844\n"
     ]
    }
   ],
   "source": [
    "TN = conf_matrix6[0, 0]\n",
    "FP = conf_matrix6[0, 1]\n",
    "FN = conf_matrix6[1, 0]\n",
    "TP = conf_matrix6[1, 1]\n",
    "\n",
    "\n",
    "classification_accuracy = (TP + TN) / float(TP + TN + FP + FN)\n",
    "print('Classification accuracy : {0:0.4f}'.format(classification_accuracy))\n",
    "\n",
    "classification_error = (FP + FN) / float(TP + TN + FP + FN)\n",
    "print('Classification error : {0:0.4f}'.format(classification_error))\n",
    "\n",
    "precision = TP / float(TP + FP)\n",
    "print('Precision : {0:0.4f}'.format(precision))\n",
    "\n",
    "recall = TP / float(TP + FN)\n",
    "print('Recall or Sensitivity : {0:0.4f}'.format(recall))\n",
    "\n",
    "true_positive_rate = TP / float(TP + FN)\n",
    "print('True Positive Rate : {0:0.4f}'.format(true_positive_rate))\n",
    "\n",
    "false_positive_rate = FP / float(FP + TN)\n",
    "print('False Positive Rate : {0:0.4f}'.format(false_positive_rate))\n",
    "\n",
    "specificity = TN / (TN + FP)\n",
    "print('Specificity : {0:0.4f}'.format(specificity))"
   ]
  },
  {
   "cell_type": "code",
   "execution_count": 88,
   "id": "a53b9e33",
   "metadata": {},
   "outputs": [
    {
     "data": {
      "image/png": "[encoded data removed]",
      "text/plain": [
       "<Figure size 432x288 with 1 Axes>"
      ]
     },
     "metadata": {
      "needs_background": "light"
     },
     "output_type": "display_data"
    },
    {
     "name": "stdout",
     "output_type": "stream",
     "text": [
      "AUC SCORE:0.9677398184954624\n"
     ]
    }
   ],
   "source": [
    "test_pred6_prob=knn.predict_proba(X_test)[:,1]\n",
    "fpr,tpr,thresholds=roc_curve(Y_test,test_pred6_prob)\n",
    "plt.plot(fpr,tpr)\n",
    "plt.xlabel('False Positive Rate')\n",
    "plt.ylabel('True Positive Rate')\n",
    "plt.show()\n",
    "print(f'AUC SCORE:{roc_auc_score(Y_test,test_pred6_prob)}')"
   ]
  },
  {
   "cell_type": "markdown",
   "id": "5e50998f",
   "metadata": {},
   "source": [
    "### Implementing the Deep Learning Algorithms"
   ]
  },
  {
   "cell_type": "markdown",
   "id": "ea305ece",
   "metadata": {},
   "source": [
    "#### Defining the RBF Neural Network"
   ]
  },
  {
   "cell_type": "code",
   "execution_count": 89,
   "id": "a678a4d4",
   "metadata": {},
   "outputs": [],
   "source": [
    "scaler= StandardScaler()\n",
    "scaler.fit(X_train)\n",
    "X_train_scaled= scaler.transform(X_train)\n",
    "X_test_scaled= scaler.transform(X_test)\n",
    "\n"
   ]
  },
  {
   "cell_type": "code",
   "execution_count": 90,
   "id": "a184ea1c",
   "metadata": {},
   "outputs": [],
   "source": [
    "# Assigns the scaled training data to the variable maindata.\n",
    "maindata = X_train_scaled\n",
    "\n",
    "#  Constructs an array containing the maindata. This will be used as the centroids for the K-means clustering algorithm.\n",
    "Cent = np.array([maindata])"
   ]
  },
  {
   "cell_type": "code",
   "execution_count": 91,
   "id": "5f24a5a5",
   "metadata": {},
   "outputs": [],
   "source": [
    "# Defines the number of clusters (centroids) for the K-means algorithm.\n",
    "K_clust = 10\n",
    "\n",
    "# Determines the number of columns (features) in the scaled training data.\n",
    "column = maindata.shape[1]  # Number of columns in maindata\n",
    "max_distance = 0\n",
    "\n",
    "# Loop over centroids\n",
    "# This code calculates the maximum distance between any two centroids in the dataset and uses it to \n",
    "# determine the value of sigma, which is a parameter used in the Radial Basis Function (RBF) kernel.\n",
    "\n",
    "for i in range(K_clust):\n",
    "    # Loop over data points\n",
    "    for j in range(column):\n",
    "        # Calculate distance between the ith centroid and the jth data point\n",
    "        d = np.linalg.norm(Cent[0, i] - Cent[0, j])\n",
    "        if d > max_distance:\n",
    "            max_distance = d\n",
    "\n",
    "d = max_distance\n",
    "sigma = d / np.sqrt(2 * K_clust)"
   ]
  },
  {
   "cell_type": "code",
   "execution_count": 92,
   "id": "6e7eae86",
   "metadata": {},
   "outputs": [],
   "source": [
    "#  Defines the number of clusters (centroids) for K-means clustering.\n",
    "K_cent= 8\n",
    "\n",
    "# Initializes the K-means clustering algorithm with the specified number of clusters (K_cent) and maximum number of iterations.\n",
    "km= KMeans(n_clusters= K_cent, max_iter= 100, random_state=108)\n",
    "\n",
    "#  Fits the K-means model to the scaled training data, determining the centroids.\n",
    "km.fit(X_train)\n",
    "cent= km.cluster_centers_\n"
   ]
  },
  {
   "cell_type": "code",
   "execution_count": 93,
   "id": "04b43490",
   "metadata": {},
   "outputs": [],
   "source": [
    "# This part of the code calculates the maximum distance between any two centroids in the K-means clustering results (cent). \n",
    "# This distance is used to determine the value of sigma, which is a parameter in the Radial Basis Function (RBF) kernel.\n",
    "# K_cent is the number of clusters (centroids) obtained from the K-means clustering.\n",
    "max=0 \n",
    "for i in range(K_cent):\n",
    "    for j in range(K_cent):\n",
    "        d= numpy.linalg.norm(cent[i]-cent[j])\n",
    "        if(d> max):\n",
    "            max= d\n",
    "d= max\n",
    "\n",
    "sigma= d/math.sqrt(2*K_cent)"
   ]
  },
  {
   "cell_type": "code",
   "execution_count": 94,
   "id": "06d92a31",
   "metadata": {},
   "outputs": [],
   "source": [
    "# This section computes the activation matrix G for the RBF neural network. \n",
    "# The activation of each neuron (RBF) is calculated based on the distance\n",
    "# between each data point in the training set (X_train) and the centroids (cent). \n",
    "# The activation is determined using the RBF function with the calculated sigma.\n",
    "\n",
    "X_train_array = X_train.values  # Convert X_train to a NumPy array\n",
    "shape = X_train_array.shape\n",
    "row = shape[0]\n",
    "column = K_cent\n",
    "G = numpy.empty((row, column), dtype=float)\n",
    "for i in range(row):\n",
    "    for j in range(column):\n",
    "        dist = numpy.linalg.norm(X_train_array[i] - cent[j])\n",
    "        G[i][j] = math.exp(-math.pow(dist, 2) / math.pow(2 * sigma, 2))\n",
    "\n",
    "        "
   ]
  },
  {
   "cell_type": "code",
   "execution_count": 95,
   "id": "c2ba9eb4",
   "metadata": {},
   "outputs": [],
   "source": [
    "# This part of the code computes the weights W for the RBF neural network using a linear least squares approach. \n",
    "# It calculates the pseudo-inverse of the matrix GTG (Gramian matrix of G), multiplies it with the transpose of G,\n",
    "# and then with the target values Y_train \n",
    "GTG= numpy.dot(G.T,G)\n",
    "GTG_inv= numpy.linalg.inv(GTG)\n",
    "fac= numpy.dot(GTG_inv,G.T)\n",
    "W= numpy.dot(fac,Y_train)\n"
   ]
  },
  {
   "cell_type": "code",
   "execution_count": 96,
   "id": "58a557a9",
   "metadata": {},
   "outputs": [],
   "source": [
    "# This section calculates the activation matrix G_test for the test data (X_test). \n",
    "# It follows a similar procedure as before, computing the activation of each neuron (RBF) \n",
    "# based on the distance between each data point in the test set and the centroids (cent).\n",
    "X_test_array = X_test.values  # Convert X_test to a NumPy array\n",
    "row = X_test_array.shape[0]\n",
    "column = K_cent\n",
    "G_test = numpy.empty((row, column), dtype=float)\n",
    "for i in range(row):\n",
    "    for j in range(column):\n",
    "        dist = numpy.linalg.norm(X_test_array[i] - cent[j])\n",
    "        G_test[i][j] = math.exp(-math.pow(dist, 2) / math.pow(2 * sigma, 2))\n",
    "\n",
    "        "
   ]
  },
  {
   "cell_type": "code",
   "execution_count": 97,
   "id": "acc98685",
   "metadata": {},
   "outputs": [],
   "source": [
    "#Finally, the code computes predictions for the test data by multiplying the activation matrix G_test with the weights W. \n",
    "# It then applies a threshold to the predictions, converting them to binary values (0 or 1) using a step function.\n",
    "prediction= numpy.dot(G_test,W)\n",
    "prediction= 0.5*(numpy.sign(prediction-0.5)+1)\n",
    "\n",
    "accuracy = accuracy_score(prediction,Y_test)\n",
    "precision, recall, f1_score, _ = precision_recall_fscore_support(Y_test, prediction, average='binary')"
   ]
  },
  {
   "cell_type": "code",
   "execution_count": 98,
   "id": "21ee2921",
   "metadata": {},
   "outputs": [
    {
     "data": {
      "image/png": "[encoded data removed]",
      "text/plain": [
       "<Figure size 432x288 with 2 Axes>"
      ]
     },
     "metadata": {
      "needs_background": "light"
     },
     "output_type": "display_data"
    }
   ],
   "source": [
    "# Calculate and print confusion matrix\n",
    "conf_matrix7 = confusion_matrix(Y_test, prediction)\n",
    "\n",
    "# Plot confusion matrix as a heatmap\n",
    "sns.heatmap(conf_matrix7, annot=True, fmt='d', cmap='Blues')\n",
    "plt.xlabel('Predicted')\n",
    "plt.ylabel('True')\n",
    "plt.title('Confusion Matrix')\n",
    "plt.show()\n",
    "\n"
   ]
  },
  {
   "cell_type": "code",
   "execution_count": 99,
   "id": "844c211f",
   "metadata": {},
   "outputs": [
    {
     "name": "stdout",
     "output_type": "stream",
     "text": [
      "Accuracy: 0.5327715355805244\n",
      "Precision: 0.6309341500765697\n",
      "Recall: 0.6149253731343284\n"
     ]
    }
   ],
   "source": [
    "# Print scores\n",
    "print(\"Accuracy:\", accuracy)\n",
    "print(\"Precision:\", precision)\n",
    "print(\"Recall:\", recall)"
   ]
  },
  {
   "cell_type": "markdown",
   "id": "63a748ec",
   "metadata": {},
   "source": [
    "### MLP Algorithm"
   ]
  },
  {
   "cell_type": "code",
   "execution_count": 100,
   "id": "27ae9f57",
   "metadata": {},
   "outputs": [],
   "source": [
    "mlp = MLPClassifier(hidden_layer_sizes=(10,), activation='relu', solver='adam', \n",
    "                                max_iter=100, random_state=108)"
   ]
  },
  {
   "cell_type": "code",
   "execution_count": 101,
   "id": "d0ac56c6",
   "metadata": {},
   "outputs": [
    {
     "data": {
      "text/plain": [
       "MLPClassifier(hidden_layer_sizes=(10,), max_iter=100, random_state=108)"
      ]
     },
     "execution_count": 101,
     "metadata": {},
     "output_type": "execute_result"
    }
   ],
   "source": [
    "# Train the MLP classifier\n",
    "mlp.fit(X_train, Y_train)"
   ]
  },
  {
   "cell_type": "code",
   "execution_count": 102,
   "id": "eca31f07",
   "metadata": {},
   "outputs": [
    {
     "name": "stdout",
     "output_type": "stream",
     "text": [
      "Accuracy on testing data:  0.9176029962546817\n",
      "Precision on testing data: 0.946319018404908\n",
      "Recall on testing data:  0.9208955223880597\n"
     ]
    }
   ],
   "source": [
    "# Predict on the test set\n",
    "mlp_pred2 = mlp.predict(X_test)\n",
    "\n",
    "print(\"Accuracy on testing data: \", metrics.accuracy_score(Y_test, mlp_pred2))\n",
    "print(\"Precision on testing data:\", metrics.precision_score(Y_test,mlp_pred2))\n",
    "print(\"Recall on testing data: \", metrics.recall_score(Y_test, mlp_pred2))\n"
   ]
  },
  {
   "cell_type": "code",
   "execution_count": 103,
   "id": "e9d011be",
   "metadata": {},
   "outputs": [
    {
     "data": {
      "image/png": "[encoded data removed]",
      "text/plain": [
       "<Figure size 432x288 with 1 Axes>"
      ]
     },
     "metadata": {
      "needs_background": "light"
     },
     "output_type": "display_data"
    }
   ],
   "source": [
    "original_feature_names = ['no_of_dependents', 'education', 'self_employed', 'income_annum', 'loan_amount',\n",
    "                          'loan_term', 'cibil_score', 'residential_assets_value', 'commercial_assets_value',\n",
    "                          'luxury_assets_value', 'bank_asset_value']\n",
    "# Get the weights assigned to each feature\n",
    "weights = mlp.coefs_[0]\n",
    "\n",
    "# Calculate feature importance based on weights\n",
    "feature_importance = np.abs(weights).mean(axis=1)\n",
    "\n",
    "# Get the indices of features sorted by importance\n",
    "indices = np.argsort(feature_importance)\n",
    "\n",
    "# Plot feature importance\n",
    "plt.barh(range(X_train.shape[1]),  feature_importance [indices])\n",
    "plt.yticks(range(X_train.shape[1]),  original_feature_names)\n",
    "plt.xlabel('Feature Importance')\n",
    "plt.ylabel('Feature Index')\n",
    "plt.title('Feature Importance for MLP Model')\n",
    "plt.show()"
   ]
  },
  {
   "cell_type": "code",
   "execution_count": 104,
   "id": "9264f3d2",
   "metadata": {},
   "outputs": [
    {
     "name": "stdout",
     "output_type": "stream",
     "text": [
      "Classification Report:\n",
      "              precision    recall  f1-score   support\n",
      "\n",
      "           0       0.87      0.91      0.89       398\n",
      "           1       0.95      0.92      0.93       670\n",
      "\n",
      "    accuracy                           0.92      1068\n",
      "   macro avg       0.91      0.92      0.91      1068\n",
      "weighted avg       0.92      0.92      0.92      1068\n",
      "\n"
     ]
    }
   ],
   "source": [
    "print(\"Classification Report:\")\n",
    "print(classification_report(Y_test, mlp_pred2))"
   ]
  },
  {
   "cell_type": "code",
   "execution_count": 105,
   "id": "bf23d876",
   "metadata": {},
   "outputs": [
    {
     "data": {
      "image/png": "[encoded data removed]",
      "text/plain": [
       "<Figure size 432x288 with 2 Axes>"
      ]
     },
     "metadata": {
      "needs_background": "light"
     },
     "output_type": "display_data"
    }
   ],
   "source": [
    "# Calculate and print confusion matrix\n",
    "conf_matrix8 = confusion_matrix(Y_test, mlp_pred2)\n",
    "\n",
    "# Plot confusion matrix as a heatmap\n",
    "sns.heatmap(conf_matrix8, annot=True, fmt='d', cmap='Blues')\n",
    "plt.xlabel('Predicted')\n",
    "plt.ylabel('True')\n",
    "plt.title('Confusion Matrix')\n",
    "plt.show()\n"
   ]
  }
 ],
 "metadata": {
  "kernelspec": {
   "display_name": "Python 3 (ipykernel)",
   "language": "python",
   "name": "python3"
  },
  "language_info": {
   "codemirror_mode": {
    "name": "ipython",
    "version": 3
   },
   "file_extension": ".py",
   "mimetype": "text/x-python",
   "name": "python",
   "nbconvert_exporter": "python",
   "pygments_lexer": "ipython3",
   "version": "3.9.12"
  }
 },
 "nbformat": 4,
 "nbformat_minor": 5
}
